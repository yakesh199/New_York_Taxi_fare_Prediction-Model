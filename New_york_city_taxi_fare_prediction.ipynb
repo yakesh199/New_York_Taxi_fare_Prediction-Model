{
  "cells": [
    {
      "metadata": {
        "_uuid": "b3f511261ab6660fa9e74b24912c094b7c8ea032",
        "id": "WQtrvY4i71ut"
      },
      "cell_type": "markdown",
      "source": [
        " **New York City Taxi Fare Prediction**            \n",
        "* Yakesh Choudhery\n"
      ]
    },
    {
      "metadata": {
        "_uuid": "8f2839f25d086af736a60e9eeb907d3b93b6e0e5",
        "_cell_guid": "b1076dfc-b9ad-4769-8c92-a6c4dae69d19",
        "trusted": true,
        "id": "ias8xVkb71uw"
      },
      "cell_type": "code",
      "source": [
        "#A momentous collaboration during my internship at Yhills and IIT Hyderabad led to the development of the New York Taxi Fare Prediction Model.\n",
        "#During my internship, I embarked on a remarkable solo journey that led to the creation of the New York Taxi Fare Prediction Model.\n",
        "#The dataset we curated is now available at https://github.com/yakesh199/New_York_Taxi_fare_Prediction-Model/tree/, inviting knowledge seekers and innovators to explore its depths and be part of this transformative project.\n",
        "#It is my hope that knowledge seekers and innovators alike will find value in exploring its depths and, perhaps, build upon this work to make even greater strides in the field of Machine Learning.\n",
        "\n",
        "import numpy as np # linear algebra\n",
        "import pandas as pd # data processing\n",
        "import matplotlib.pyplot as plt\n",
        "%matplotlib inline\n",
        "import seaborn as sns\n",
        "import os"
      ],
      "execution_count": 165,
      "outputs": []
    },
    {
      "metadata": {
        "_uuid": "0ab8710a504853ee4242f2b4850de8778dfa4abe",
        "id": "gDeR2l8571ux"
      },
      "cell_type": "markdown",
      "source": [
        "* Load the dataset and set number of rows as nrows =3900000"
      ]
    },
    {
      "metadata": {
        "trusted": true,
        "_uuid": "7ef5c283a1d31d168c10ac3c0025fc49046b9d12",
        "colab": {
          "base_uri": "https://localhost:8080/"
        },
        "id": "rflQgRYs71ux",
        "outputId": "64089364-f4c0-4fc5-ef9b-e3dfa6a211f0"
      },
      "cell_type": "code",
      "source": [
        "data=pd.read_csv(\"TaxiFare.csv\",nrows = 3900000)\n",
        "data.columns"
      ],
      "execution_count": 166,
      "outputs": [
        {
          "output_type": "execute_result",
          "data": {
            "text/plain": [
              "Index(['unique_id', 'amount', 'date_time_of_pickup', 'longitude_of_pickup',\n",
              "       'latitude_of_pickup', 'longitude_of_dropoff', 'latitude_of_dropoff',\n",
              "       'no_of_passenger'],\n",
              "      dtype='object')"
            ]
          },
          "metadata": {},
          "execution_count": 166
        }
      ]
    },
    {
      "metadata": {
        "trusted": true,
        "_uuid": "c8551c1a22df65c02d515269f9915a316fce0e32",
        "colab": {
          "base_uri": "https://localhost:8080/",
          "height": 322
        },
        "id": "1b2ulRUG71uy",
        "outputId": "2cac88f6-ad1b-4ff6-cbd8-e09b48855362"
      },
      "cell_type": "code",
      "source": [
        "data.head(5)"
      ],
      "execution_count": 167,
      "outputs": [
        {
          "output_type": "execute_result",
          "data": {
            "text/plain": [
              "  unique_id  amount      date_time_of_pickup  longitude_of_pickup  \\\n",
              "0   26:21.0     4.5  2009-06-15 17:26:21 UTC           -73.844311   \n",
              "1   52:16.0    16.9  2010-01-05 16:52:16 UTC           -74.016048   \n",
              "2   35:00.0     5.7  2011-08-18 00:35:00 UTC           -73.982738   \n",
              "3   30:42.0     7.7  2012-04-21 04:30:42 UTC           -73.987130   \n",
              "4   51:00.0     5.3  2010-03-09 07:51:00 UTC           -73.968095   \n",
              "\n",
              "   latitude_of_pickup  longitude_of_dropoff  latitude_of_dropoff  \\\n",
              "0           40.721319            -73.841610            40.712278   \n",
              "1           40.711303            -73.979268            40.782004   \n",
              "2           40.761270            -73.991242            40.750562   \n",
              "3           40.733143            -73.991567            40.758092   \n",
              "4           40.768008            -73.956655            40.783762   \n",
              "\n",
              "   no_of_passenger  \n",
              "0                1  \n",
              "1                1  \n",
              "2                2  \n",
              "3                1  \n",
              "4                1  "
            ],
            "text/html": [
              "\n",
              "\n",
              "  <div id=\"df-7d49c842-8e66-4763-924b-ff15eccbc712\">\n",
              "    <div class=\"colab-df-container\">\n",
              "      <div>\n",
              "<style scoped>\n",
              "    .dataframe tbody tr th:only-of-type {\n",
              "        vertical-align: middle;\n",
              "    }\n",
              "\n",
              "    .dataframe tbody tr th {\n",
              "        vertical-align: top;\n",
              "    }\n",
              "\n",
              "    .dataframe thead th {\n",
              "        text-align: right;\n",
              "    }\n",
              "</style>\n",
              "<table border=\"1\" class=\"dataframe\">\n",
              "  <thead>\n",
              "    <tr style=\"text-align: right;\">\n",
              "      <th></th>\n",
              "      <th>unique_id</th>\n",
              "      <th>amount</th>\n",
              "      <th>date_time_of_pickup</th>\n",
              "      <th>longitude_of_pickup</th>\n",
              "      <th>latitude_of_pickup</th>\n",
              "      <th>longitude_of_dropoff</th>\n",
              "      <th>latitude_of_dropoff</th>\n",
              "      <th>no_of_passenger</th>\n",
              "    </tr>\n",
              "  </thead>\n",
              "  <tbody>\n",
              "    <tr>\n",
              "      <th>0</th>\n",
              "      <td>26:21.0</td>\n",
              "      <td>4.5</td>\n",
              "      <td>2009-06-15 17:26:21 UTC</td>\n",
              "      <td>-73.844311</td>\n",
              "      <td>40.721319</td>\n",
              "      <td>-73.841610</td>\n",
              "      <td>40.712278</td>\n",
              "      <td>1</td>\n",
              "    </tr>\n",
              "    <tr>\n",
              "      <th>1</th>\n",
              "      <td>52:16.0</td>\n",
              "      <td>16.9</td>\n",
              "      <td>2010-01-05 16:52:16 UTC</td>\n",
              "      <td>-74.016048</td>\n",
              "      <td>40.711303</td>\n",
              "      <td>-73.979268</td>\n",
              "      <td>40.782004</td>\n",
              "      <td>1</td>\n",
              "    </tr>\n",
              "    <tr>\n",
              "      <th>2</th>\n",
              "      <td>35:00.0</td>\n",
              "      <td>5.7</td>\n",
              "      <td>2011-08-18 00:35:00 UTC</td>\n",
              "      <td>-73.982738</td>\n",
              "      <td>40.761270</td>\n",
              "      <td>-73.991242</td>\n",
              "      <td>40.750562</td>\n",
              "      <td>2</td>\n",
              "    </tr>\n",
              "    <tr>\n",
              "      <th>3</th>\n",
              "      <td>30:42.0</td>\n",
              "      <td>7.7</td>\n",
              "      <td>2012-04-21 04:30:42 UTC</td>\n",
              "      <td>-73.987130</td>\n",
              "      <td>40.733143</td>\n",
              "      <td>-73.991567</td>\n",
              "      <td>40.758092</td>\n",
              "      <td>1</td>\n",
              "    </tr>\n",
              "    <tr>\n",
              "      <th>4</th>\n",
              "      <td>51:00.0</td>\n",
              "      <td>5.3</td>\n",
              "      <td>2010-03-09 07:51:00 UTC</td>\n",
              "      <td>-73.968095</td>\n",
              "      <td>40.768008</td>\n",
              "      <td>-73.956655</td>\n",
              "      <td>40.783762</td>\n",
              "      <td>1</td>\n",
              "    </tr>\n",
              "  </tbody>\n",
              "</table>\n",
              "</div>\n",
              "      <button class=\"colab-df-convert\" onclick=\"convertToInteractive('df-7d49c842-8e66-4763-924b-ff15eccbc712')\"\n",
              "              title=\"Convert this dataframe to an interactive table.\"\n",
              "              style=\"display:none;\">\n",
              "\n",
              "  <svg xmlns=\"http://www.w3.org/2000/svg\" height=\"24px\"viewBox=\"0 0 24 24\"\n",
              "       width=\"24px\">\n",
              "    <path d=\"M0 0h24v24H0V0z\" fill=\"none\"/>\n",
              "    <path d=\"M18.56 5.44l.94 2.06.94-2.06 2.06-.94-2.06-.94-.94-2.06-.94 2.06-2.06.94zm-11 1L8.5 8.5l.94-2.06 2.06-.94-2.06-.94L8.5 2.5l-.94 2.06-2.06.94zm10 10l.94 2.06.94-2.06 2.06-.94-2.06-.94-.94-2.06-.94 2.06-2.06.94z\"/><path d=\"M17.41 7.96l-1.37-1.37c-.4-.4-.92-.59-1.43-.59-.52 0-1.04.2-1.43.59L10.3 9.45l-7.72 7.72c-.78.78-.78 2.05 0 2.83L4 21.41c.39.39.9.59 1.41.59.51 0 1.02-.2 1.41-.59l7.78-7.78 2.81-2.81c.8-.78.8-2.07 0-2.86zM5.41 20L4 18.59l7.72-7.72 1.47 1.35L5.41 20z\"/>\n",
              "  </svg>\n",
              "      </button>\n",
              "\n",
              "\n",
              "\n",
              "    <div id=\"df-c7dfd7f1-59ba-4dab-a8b5-bffd33ae6815\">\n",
              "      <button class=\"colab-df-quickchart\" onclick=\"quickchart('df-c7dfd7f1-59ba-4dab-a8b5-bffd33ae6815')\"\n",
              "              title=\"Suggest charts.\"\n",
              "              style=\"display:none;\">\n",
              "\n",
              "<svg xmlns=\"http://www.w3.org/2000/svg\" height=\"24px\"viewBox=\"0 0 24 24\"\n",
              "     width=\"24px\">\n",
              "    <g>\n",
              "        <path d=\"M19 3H5c-1.1 0-2 .9-2 2v14c0 1.1.9 2 2 2h14c1.1 0 2-.9 2-2V5c0-1.1-.9-2-2-2zM9 17H7v-7h2v7zm4 0h-2V7h2v10zm4 0h-2v-4h2v4z\"/>\n",
              "    </g>\n",
              "</svg>\n",
              "      </button>\n",
              "    </div>\n",
              "\n",
              "<style>\n",
              "  .colab-df-quickchart {\n",
              "    background-color: #E8F0FE;\n",
              "    border: none;\n",
              "    border-radius: 50%;\n",
              "    cursor: pointer;\n",
              "    display: none;\n",
              "    fill: #1967D2;\n",
              "    height: 32px;\n",
              "    padding: 0 0 0 0;\n",
              "    width: 32px;\n",
              "  }\n",
              "\n",
              "  .colab-df-quickchart:hover {\n",
              "    background-color: #E2EBFA;\n",
              "    box-shadow: 0px 1px 2px rgba(60, 64, 67, 0.3), 0px 1px 3px 1px rgba(60, 64, 67, 0.15);\n",
              "    fill: #174EA6;\n",
              "  }\n",
              "\n",
              "  [theme=dark] .colab-df-quickchart {\n",
              "    background-color: #3B4455;\n",
              "    fill: #D2E3FC;\n",
              "  }\n",
              "\n",
              "  [theme=dark] .colab-df-quickchart:hover {\n",
              "    background-color: #434B5C;\n",
              "    box-shadow: 0px 1px 3px 1px rgba(0, 0, 0, 0.15);\n",
              "    filter: drop-shadow(0px 1px 2px rgba(0, 0, 0, 0.3));\n",
              "    fill: #FFFFFF;\n",
              "  }\n",
              "</style>\n",
              "\n",
              "    <script>\n",
              "      async function quickchart(key) {\n",
              "        const containerElement = document.querySelector('#' + key);\n",
              "        const charts = await google.colab.kernel.invokeFunction(\n",
              "            'suggestCharts', [key], {});\n",
              "      }\n",
              "    </script>\n",
              "\n",
              "      <script>\n",
              "\n",
              "function displayQuickchartButton(domScope) {\n",
              "  let quickchartButtonEl =\n",
              "    domScope.querySelector('#df-c7dfd7f1-59ba-4dab-a8b5-bffd33ae6815 button.colab-df-quickchart');\n",
              "  quickchartButtonEl.style.display =\n",
              "    google.colab.kernel.accessAllowed ? 'block' : 'none';\n",
              "}\n",
              "\n",
              "        displayQuickchartButton(document);\n",
              "      </script>\n",
              "      <style>\n",
              "    .colab-df-container {\n",
              "      display:flex;\n",
              "      flex-wrap:wrap;\n",
              "      gap: 12px;\n",
              "    }\n",
              "\n",
              "    .colab-df-convert {\n",
              "      background-color: #E8F0FE;\n",
              "      border: none;\n",
              "      border-radius: 50%;\n",
              "      cursor: pointer;\n",
              "      display: none;\n",
              "      fill: #1967D2;\n",
              "      height: 32px;\n",
              "      padding: 0 0 0 0;\n",
              "      width: 32px;\n",
              "    }\n",
              "\n",
              "    .colab-df-convert:hover {\n",
              "      background-color: #E2EBFA;\n",
              "      box-shadow: 0px 1px 2px rgba(60, 64, 67, 0.3), 0px 1px 3px 1px rgba(60, 64, 67, 0.15);\n",
              "      fill: #174EA6;\n",
              "    }\n",
              "\n",
              "    [theme=dark] .colab-df-convert {\n",
              "      background-color: #3B4455;\n",
              "      fill: #D2E3FC;\n",
              "    }\n",
              "\n",
              "    [theme=dark] .colab-df-convert:hover {\n",
              "      background-color: #434B5C;\n",
              "      box-shadow: 0px 1px 3px 1px rgba(0, 0, 0, 0.15);\n",
              "      filter: drop-shadow(0px 1px 2px rgba(0, 0, 0, 0.3));\n",
              "      fill: #FFFFFF;\n",
              "    }\n",
              "  </style>\n",
              "\n",
              "      <script>\n",
              "        const buttonEl =\n",
              "          document.querySelector('#df-7d49c842-8e66-4763-924b-ff15eccbc712 button.colab-df-convert');\n",
              "        buttonEl.style.display =\n",
              "          google.colab.kernel.accessAllowed ? 'block' : 'none';\n",
              "\n",
              "        async function convertToInteractive(key) {\n",
              "          const element = document.querySelector('#df-7d49c842-8e66-4763-924b-ff15eccbc712');\n",
              "          const dataTable =\n",
              "            await google.colab.kernel.invokeFunction('convertToInteractive',\n",
              "                                                     [key], {});\n",
              "          if (!dataTable) return;\n",
              "\n",
              "          const docLinkHtml = 'Like what you see? Visit the ' +\n",
              "            '<a target=\"_blank\" href=https://colab.research.google.com/notebooks/data_table.ipynb>data table notebook</a>'\n",
              "            + ' to learn more about interactive tables.';\n",
              "          element.innerHTML = '';\n",
              "          dataTable['output_type'] = 'display_data';\n",
              "          await google.colab.output.renderOutput(dataTable, element);\n",
              "          const docLink = document.createElement('div');\n",
              "          docLink.innerHTML = docLinkHtml;\n",
              "          element.appendChild(docLink);\n",
              "        }\n",
              "      </script>\n",
              "    </div>\n",
              "  </div>\n"
            ]
          },
          "metadata": {},
          "execution_count": 167
        }
      ]
    },
    {
      "metadata": {
        "trusted": true,
        "_uuid": "496b4a452dcb9a74f265da875d51937736bdb06f",
        "colab": {
          "base_uri": "https://localhost:8080/",
          "height": 364
        },
        "id": "uoAjEgT571uz",
        "outputId": "666cf146-beb0-42c4-eac0-64c38d1734a6"
      },
      "cell_type": "code",
      "source": [
        "data.describe()"
      ],
      "execution_count": 168,
      "outputs": [
        {
          "output_type": "execute_result",
          "data": {
            "text/plain": [
              "             amount  longitude_of_pickup  latitude_of_pickup  \\\n",
              "count  50000.000000         50000.000000        50000.000000   \n",
              "mean      11.364171           -72.509756           39.933759   \n",
              "std        9.685557            10.393860            6.224857   \n",
              "min       -5.000000           -75.423848          -74.006893   \n",
              "25%        6.000000           -73.992062           40.734880   \n",
              "50%        8.500000           -73.981840           40.752678   \n",
              "75%       12.500000           -73.967148           40.767360   \n",
              "max      200.000000            40.783472          401.083332   \n",
              "\n",
              "       longitude_of_dropoff  latitude_of_dropoff  no_of_passenger  \n",
              "count          50000.000000         50000.000000     50000.000000  \n",
              "mean             -72.504616            39.926251         1.667840  \n",
              "std               10.407570             6.014737         1.289195  \n",
              "min              -84.654241           -74.006377         0.000000  \n",
              "25%              -73.991152            40.734372         1.000000  \n",
              "50%              -73.980082            40.753372         1.000000  \n",
              "75%              -73.963584            40.768167         2.000000  \n",
              "max               40.851027            43.415190         6.000000  "
            ],
            "text/html": [
              "\n",
              "\n",
              "  <div id=\"df-e9d2bcb5-fe96-4678-b43d-607c986dfb27\">\n",
              "    <div class=\"colab-df-container\">\n",
              "      <div>\n",
              "<style scoped>\n",
              "    .dataframe tbody tr th:only-of-type {\n",
              "        vertical-align: middle;\n",
              "    }\n",
              "\n",
              "    .dataframe tbody tr th {\n",
              "        vertical-align: top;\n",
              "    }\n",
              "\n",
              "    .dataframe thead th {\n",
              "        text-align: right;\n",
              "    }\n",
              "</style>\n",
              "<table border=\"1\" class=\"dataframe\">\n",
              "  <thead>\n",
              "    <tr style=\"text-align: right;\">\n",
              "      <th></th>\n",
              "      <th>amount</th>\n",
              "      <th>longitude_of_pickup</th>\n",
              "      <th>latitude_of_pickup</th>\n",
              "      <th>longitude_of_dropoff</th>\n",
              "      <th>latitude_of_dropoff</th>\n",
              "      <th>no_of_passenger</th>\n",
              "    </tr>\n",
              "  </thead>\n",
              "  <tbody>\n",
              "    <tr>\n",
              "      <th>count</th>\n",
              "      <td>50000.000000</td>\n",
              "      <td>50000.000000</td>\n",
              "      <td>50000.000000</td>\n",
              "      <td>50000.000000</td>\n",
              "      <td>50000.000000</td>\n",
              "      <td>50000.000000</td>\n",
              "    </tr>\n",
              "    <tr>\n",
              "      <th>mean</th>\n",
              "      <td>11.364171</td>\n",
              "      <td>-72.509756</td>\n",
              "      <td>39.933759</td>\n",
              "      <td>-72.504616</td>\n",
              "      <td>39.926251</td>\n",
              "      <td>1.667840</td>\n",
              "    </tr>\n",
              "    <tr>\n",
              "      <th>std</th>\n",
              "      <td>9.685557</td>\n",
              "      <td>10.393860</td>\n",
              "      <td>6.224857</td>\n",
              "      <td>10.407570</td>\n",
              "      <td>6.014737</td>\n",
              "      <td>1.289195</td>\n",
              "    </tr>\n",
              "    <tr>\n",
              "      <th>min</th>\n",
              "      <td>-5.000000</td>\n",
              "      <td>-75.423848</td>\n",
              "      <td>-74.006893</td>\n",
              "      <td>-84.654241</td>\n",
              "      <td>-74.006377</td>\n",
              "      <td>0.000000</td>\n",
              "    </tr>\n",
              "    <tr>\n",
              "      <th>25%</th>\n",
              "      <td>6.000000</td>\n",
              "      <td>-73.992062</td>\n",
              "      <td>40.734880</td>\n",
              "      <td>-73.991152</td>\n",
              "      <td>40.734372</td>\n",
              "      <td>1.000000</td>\n",
              "    </tr>\n",
              "    <tr>\n",
              "      <th>50%</th>\n",
              "      <td>8.500000</td>\n",
              "      <td>-73.981840</td>\n",
              "      <td>40.752678</td>\n",
              "      <td>-73.980082</td>\n",
              "      <td>40.753372</td>\n",
              "      <td>1.000000</td>\n",
              "    </tr>\n",
              "    <tr>\n",
              "      <th>75%</th>\n",
              "      <td>12.500000</td>\n",
              "      <td>-73.967148</td>\n",
              "      <td>40.767360</td>\n",
              "      <td>-73.963584</td>\n",
              "      <td>40.768167</td>\n",
              "      <td>2.000000</td>\n",
              "    </tr>\n",
              "    <tr>\n",
              "      <th>max</th>\n",
              "      <td>200.000000</td>\n",
              "      <td>40.783472</td>\n",
              "      <td>401.083332</td>\n",
              "      <td>40.851027</td>\n",
              "      <td>43.415190</td>\n",
              "      <td>6.000000</td>\n",
              "    </tr>\n",
              "  </tbody>\n",
              "</table>\n",
              "</div>\n",
              "      <button class=\"colab-df-convert\" onclick=\"convertToInteractive('df-e9d2bcb5-fe96-4678-b43d-607c986dfb27')\"\n",
              "              title=\"Convert this dataframe to an interactive table.\"\n",
              "              style=\"display:none;\">\n",
              "\n",
              "  <svg xmlns=\"http://www.w3.org/2000/svg\" height=\"24px\"viewBox=\"0 0 24 24\"\n",
              "       width=\"24px\">\n",
              "    <path d=\"M0 0h24v24H0V0z\" fill=\"none\"/>\n",
              "    <path d=\"M18.56 5.44l.94 2.06.94-2.06 2.06-.94-2.06-.94-.94-2.06-.94 2.06-2.06.94zm-11 1L8.5 8.5l.94-2.06 2.06-.94-2.06-.94L8.5 2.5l-.94 2.06-2.06.94zm10 10l.94 2.06.94-2.06 2.06-.94-2.06-.94-.94-2.06-.94 2.06-2.06.94z\"/><path d=\"M17.41 7.96l-1.37-1.37c-.4-.4-.92-.59-1.43-.59-.52 0-1.04.2-1.43.59L10.3 9.45l-7.72 7.72c-.78.78-.78 2.05 0 2.83L4 21.41c.39.39.9.59 1.41.59.51 0 1.02-.2 1.41-.59l7.78-7.78 2.81-2.81c.8-.78.8-2.07 0-2.86zM5.41 20L4 18.59l7.72-7.72 1.47 1.35L5.41 20z\"/>\n",
              "  </svg>\n",
              "      </button>\n",
              "\n",
              "\n",
              "\n",
              "    <div id=\"df-524d4746-64ce-47d0-bb6f-c81ec4b83e46\">\n",
              "      <button class=\"colab-df-quickchart\" onclick=\"quickchart('df-524d4746-64ce-47d0-bb6f-c81ec4b83e46')\"\n",
              "              title=\"Suggest charts.\"\n",
              "              style=\"display:none;\">\n",
              "\n",
              "<svg xmlns=\"http://www.w3.org/2000/svg\" height=\"24px\"viewBox=\"0 0 24 24\"\n",
              "     width=\"24px\">\n",
              "    <g>\n",
              "        <path d=\"M19 3H5c-1.1 0-2 .9-2 2v14c0 1.1.9 2 2 2h14c1.1 0 2-.9 2-2V5c0-1.1-.9-2-2-2zM9 17H7v-7h2v7zm4 0h-2V7h2v10zm4 0h-2v-4h2v4z\"/>\n",
              "    </g>\n",
              "</svg>\n",
              "      </button>\n",
              "    </div>\n",
              "\n",
              "<style>\n",
              "  .colab-df-quickchart {\n",
              "    background-color: #E8F0FE;\n",
              "    border: none;\n",
              "    border-radius: 50%;\n",
              "    cursor: pointer;\n",
              "    display: none;\n",
              "    fill: #1967D2;\n",
              "    height: 32px;\n",
              "    padding: 0 0 0 0;\n",
              "    width: 32px;\n",
              "  }\n",
              "\n",
              "  .colab-df-quickchart:hover {\n",
              "    background-color: #E2EBFA;\n",
              "    box-shadow: 0px 1px 2px rgba(60, 64, 67, 0.3), 0px 1px 3px 1px rgba(60, 64, 67, 0.15);\n",
              "    fill: #174EA6;\n",
              "  }\n",
              "\n",
              "  [theme=dark] .colab-df-quickchart {\n",
              "    background-color: #3B4455;\n",
              "    fill: #D2E3FC;\n",
              "  }\n",
              "\n",
              "  [theme=dark] .colab-df-quickchart:hover {\n",
              "    background-color: #434B5C;\n",
              "    box-shadow: 0px 1px 3px 1px rgba(0, 0, 0, 0.15);\n",
              "    filter: drop-shadow(0px 1px 2px rgba(0, 0, 0, 0.3));\n",
              "    fill: #FFFFFF;\n",
              "  }\n",
              "</style>\n",
              "\n",
              "    <script>\n",
              "      async function quickchart(key) {\n",
              "        const containerElement = document.querySelector('#' + key);\n",
              "        const charts = await google.colab.kernel.invokeFunction(\n",
              "            'suggestCharts', [key], {});\n",
              "      }\n",
              "    </script>\n",
              "\n",
              "      <script>\n",
              "\n",
              "function displayQuickchartButton(domScope) {\n",
              "  let quickchartButtonEl =\n",
              "    domScope.querySelector('#df-524d4746-64ce-47d0-bb6f-c81ec4b83e46 button.colab-df-quickchart');\n",
              "  quickchartButtonEl.style.display =\n",
              "    google.colab.kernel.accessAllowed ? 'block' : 'none';\n",
              "}\n",
              "\n",
              "        displayQuickchartButton(document);\n",
              "      </script>\n",
              "      <style>\n",
              "    .colab-df-container {\n",
              "      display:flex;\n",
              "      flex-wrap:wrap;\n",
              "      gap: 12px;\n",
              "    }\n",
              "\n",
              "    .colab-df-convert {\n",
              "      background-color: #E8F0FE;\n",
              "      border: none;\n",
              "      border-radius: 50%;\n",
              "      cursor: pointer;\n",
              "      display: none;\n",
              "      fill: #1967D2;\n",
              "      height: 32px;\n",
              "      padding: 0 0 0 0;\n",
              "      width: 32px;\n",
              "    }\n",
              "\n",
              "    .colab-df-convert:hover {\n",
              "      background-color: #E2EBFA;\n",
              "      box-shadow: 0px 1px 2px rgba(60, 64, 67, 0.3), 0px 1px 3px 1px rgba(60, 64, 67, 0.15);\n",
              "      fill: #174EA6;\n",
              "    }\n",
              "\n",
              "    [theme=dark] .colab-df-convert {\n",
              "      background-color: #3B4455;\n",
              "      fill: #D2E3FC;\n",
              "    }\n",
              "\n",
              "    [theme=dark] .colab-df-convert:hover {\n",
              "      background-color: #434B5C;\n",
              "      box-shadow: 0px 1px 3px 1px rgba(0, 0, 0, 0.15);\n",
              "      filter: drop-shadow(0px 1px 2px rgba(0, 0, 0, 0.3));\n",
              "      fill: #FFFFFF;\n",
              "    }\n",
              "  </style>\n",
              "\n",
              "      <script>\n",
              "        const buttonEl =\n",
              "          document.querySelector('#df-e9d2bcb5-fe96-4678-b43d-607c986dfb27 button.colab-df-convert');\n",
              "        buttonEl.style.display =\n",
              "          google.colab.kernel.accessAllowed ? 'block' : 'none';\n",
              "\n",
              "        async function convertToInteractive(key) {\n",
              "          const element = document.querySelector('#df-e9d2bcb5-fe96-4678-b43d-607c986dfb27');\n",
              "          const dataTable =\n",
              "            await google.colab.kernel.invokeFunction('convertToInteractive',\n",
              "                                                     [key], {});\n",
              "          if (!dataTable) return;\n",
              "\n",
              "          const docLinkHtml = 'Like what you see? Visit the ' +\n",
              "            '<a target=\"_blank\" href=https://colab.research.google.com/notebooks/data_table.ipynb>data table notebook</a>'\n",
              "            + ' to learn more about interactive tables.';\n",
              "          element.innerHTML = '';\n",
              "          dataTable['output_type'] = 'display_data';\n",
              "          await google.colab.output.renderOutput(dataTable, element);\n",
              "          const docLink = document.createElement('div');\n",
              "          docLink.innerHTML = docLinkHtml;\n",
              "          element.appendChild(docLink);\n",
              "        }\n",
              "      </script>\n",
              "    </div>\n",
              "  </div>\n"
            ]
          },
          "metadata": {},
          "execution_count": 168
        }
      ]
    },
    {
      "metadata": {
        "_uuid": "83658950665bd196ba5d619985d6377d7f9fecb1",
        "id": "XGi_N3dU71uz"
      },
      "cell_type": "markdown",
      "source": [
        "**fare amount column :-**\n",
        "Found negative value of fare amount. Fare never be negative let's drop those rows which are having negative fare amount and also remove outliers"
      ]
    },
    {
      "metadata": {
        "trusted": true,
        "_uuid": "caa91fef6640e735b8bd92ff59dd76f1aa2fc236",
        "colab": {
          "base_uri": "https://localhost:8080/",
          "height": 450
        },
        "id": "LVFqmZ4T71u0",
        "outputId": "fa913d2e-3ed9-4453-d12a-ecf47b7e380b"
      },
      "cell_type": "code",
      "source": [
        "# Specify the correct columns to be used\n",
        "cols = ['amount', 'date_time_of_pickup', 'longitude_of_pickup', 'latitude_of_pickup', 'longitude_of_dropoff', 'latitude_of_dropoff', 'no_of_passenger']\n",
        "\n",
        "# Read the CSV file again, selecting only the desired columns\n",
        "data = pd.read_csv(\"TaxiFare.csv\", nrows=3900000, usecols=cols)\n",
        "\n",
        "# Scatter plot\n",
        "plt.scatter(x=data['amount'], y=data.index)\n",
        "plt.ylabel('Index')\n",
        "plt.xlabel('fare_amount')\n",
        "plt.show()"
      ],
      "execution_count": 172,
      "outputs": [
        {
          "output_type": "display_data",
          "data": {
            "text/plain": [
              "<Figure size 640x480 with 1 Axes>"
            ],
            "image/png": "[encoded data removed]"
          },
          "metadata": {}
        }
      ]
    },
    {
      "metadata": {
        "trusted": true,
        "_uuid": "5eeb40a1651dc6a6f81d710baf2f8ad6761171da",
        "colab": {
          "base_uri": "https://localhost:8080/"
        },
        "id": "_RHHmdSP71u0",
        "outputId": "1c186977-460d-40f5-f672-98b47683d120"
      },
      "cell_type": "code",
      "source": [
        "# Specify the correct columns to be used\n",
        "cols = ['amount', 'date_time_of_pickup', 'longitude_of_pickup', 'latitude_of_pickup', 'longitude_of_dropoff', 'latitude_of_dropoff', 'no_of_passenger']\n",
        "\n",
        "# Read the CSV file again, selecting only the desired columns\n",
        "data = pd.read_csv(\"TaxiFare.csv\", nrows=3900000, usecols=cols)\n",
        "\n",
        "# Check the count of fare amounts that are less than 0 or greater than or equal to 300\n",
        "count_invalid_fares = data['amount'][(data['amount'] < 0) | (data['amount'] >= 300)].count()\n",
        "print(\"Count of invalid fare amounts:\", count_invalid_fares)"
      ],
      "execution_count": 176,
      "outputs": [
        {
          "output_type": "stream",
          "name": "stdout",
          "text": [
            "Count of invalid fare amounts: 6\n"
          ]
        }
      ]
    },
    {
      "metadata": {
        "trusted": true,
        "_uuid": "c57dcc2427937f4680d4f3ce1782505ccaac9c9f",
        "colab": {
          "base_uri": "https://localhost:8080/"
        },
        "id": "8a9vBZWi71u0",
        "outputId": "a6652cc1-aca2-4102-b489-63ff810fdd3b"
      },
      "cell_type": "code",
      "source": [
        "data.shape"
      ],
      "execution_count": 177,
      "outputs": [
        {
          "output_type": "execute_result",
          "data": {
            "text/plain": [
              "(50000, 7)"
            ]
          },
          "metadata": {},
          "execution_count": 177
        }
      ]
    },
    {
      "metadata": {
        "trusted": true,
        "_uuid": "1f7cd432bb95dc6e18d8f9c557f1a08a9c87c43c",
        "colab": {
          "base_uri": "https://localhost:8080/"
        },
        "id": "PDbUvE8r71u0",
        "outputId": "7eff9bb3-c92e-458a-bb4d-bcd0d810d6da"
      },
      "cell_type": "code",
      "source": [
        "# Specify the correct columns to be used\n",
        "cols = ['amount', 'date_time_of_pickup', 'longitude_of_pickup', 'latitude_of_pickup', 'longitude_of_dropoff', 'latitude_of_dropoff', 'no_of_passenger']\n",
        "\n",
        "# Read the CSV file again, selecting only the desired columns\n",
        "data = pd.read_csv(\"TaxiFare.csv\", nrows=3900000, usecols=cols)\n",
        "\n",
        "# Drop rows with invalid fare amounts (less than 0 or greater than or equal to 300)\n",
        "data = data.drop(data[(data['amount'] < 0) | (data['amount'] >= 300)].index, axis=0)\n",
        "\n",
        "# Check the count of rows after dropping the invalid fare amounts\n",
        "print(\"Count of rows after dropping invalid fare amounts:\", data.shape[0])"
      ],
      "execution_count": 178,
      "outputs": [
        {
          "output_type": "stream",
          "name": "stdout",
          "text": [
            "Count of rows after dropping invalid fare amounts: 49994\n"
          ]
        }
      ]
    },
    {
      "metadata": {
        "trusted": true,
        "_uuid": "b20937caf05e01f308c79f4377546c19bded9601",
        "colab": {
          "base_uri": "https://localhost:8080/"
        },
        "id": "2PYC9Yxy71u1",
        "outputId": "b2c812fd-7600-4735-d715-77004ce210b1"
      },
      "cell_type": "code",
      "source": [
        "# Specify the correct columns to be used\n",
        "cols = ['amount', 'date_time_of_pickup', 'longitude_of_pickup', 'latitude_of_pickup', 'longitude_of_dropoff', 'latitude_of_dropoff', 'no_of_passenger']\n",
        "\n",
        "# Read the CSV file again, selecting only the desired columns\n",
        "data = pd.read_csv(\"TaxiFare.csv\", nrows=3900000, usecols=cols)\n",
        "\n",
        "# Check the count of null values in the 'amount' column\n",
        "count_null_fares = data['amount'].isnull().sum()\n",
        "print(\"Count of null values in the 'amount' column:\", count_null_fares)"
      ],
      "execution_count": 179,
      "outputs": [
        {
          "output_type": "stream",
          "name": "stdout",
          "text": [
            "Count of null values in the 'amount' column: 0\n"
          ]
        }
      ]
    },
    {
      "metadata": {
        "trusted": true,
        "_uuid": "89ba56605e86774368f59e9605715489340d2c31",
        "colab": {
          "base_uri": "https://localhost:8080/"
        },
        "id": "c0Xt6vp871u1",
        "outputId": "4aa191ec-844e-42ae-c859-0b0e7b770ecf"
      },
      "cell_type": "code",
      "source": [
        "data.shape"
      ],
      "execution_count": 180,
      "outputs": [
        {
          "output_type": "execute_result",
          "data": {
            "text/plain": [
              "(50000, 7)"
            ]
          },
          "metadata": {},
          "execution_count": 180
        }
      ]
    },
    {
      "metadata": {
        "_uuid": "71b255fc063ef2f58acf62c1cb74866ac8b42f70",
        "id": "j4MlqCaX71u1"
      },
      "cell_type": "markdown",
      "source": [
        "data with negative fare_amount has been removed"
      ]
    },
    {
      "metadata": {
        "_uuid": "7489c72b6f60e7428c8d932f3ab702216b275b5b",
        "id": "OQH4-JfQ71u1"
      },
      "cell_type": "markdown",
      "source": [
        "--------------------------------------------------------\n"
      ]
    },
    {
      "metadata": {
        "trusted": true,
        "_uuid": "d8c7d39ac3f70c3fd40cd3883170a8d86f9eb384",
        "colab": {
          "base_uri": "https://localhost:8080/"
        },
        "id": "I_IyxndX71u1",
        "outputId": "fc02161e-0168-4859-d769-0f3e8a0be114"
      },
      "cell_type": "code",
      "source": [
        "data.isnull().sum()"
      ],
      "execution_count": 181,
      "outputs": [
        {
          "output_type": "execute_result",
          "data": {
            "text/plain": [
              "amount                  0\n",
              "date_time_of_pickup     0\n",
              "longitude_of_pickup     0\n",
              "latitude_of_pickup      0\n",
              "longitude_of_dropoff    0\n",
              "latitude_of_dropoff     0\n",
              "no_of_passenger         0\n",
              "dtype: int64"
            ]
          },
          "metadata": {},
          "execution_count": 181
        }
      ]
    },
    {
      "metadata": {
        "trusted": true,
        "_uuid": "8339838763735d68af2ca54267eb01299ea7423e",
        "colab": {
          "base_uri": "https://localhost:8080/"
        },
        "id": "9b2-aZSe71u2",
        "outputId": "e0524d71-71e5-46b2-af50-a7c120969580"
      },
      "cell_type": "code",
      "source": [
        "# Specify the correct columns to be used\n",
        "cols = ['amount', 'date_time_of_pickup', 'longitude_of_pickup', 'latitude_of_pickup', 'longitude_of_dropoff', 'latitude_of_dropoff', 'no_of_passenger']\n",
        "\n",
        "# Read the CSV file again, selecting only the desired columns\n",
        "data = pd.read_csv(\"TaxiFare.csv\", nrows=3900000, usecols=cols)\n",
        "\n",
        "# Print the first 5 rows of 'latitude_of_pickup' and 'latitude_of_dropoff' columns\n",
        "print(data['latitude_of_pickup'].head(5))\n",
        "print(data['latitude_of_dropoff'].head(5))"
      ],
      "execution_count": 182,
      "outputs": [
        {
          "output_type": "stream",
          "name": "stdout",
          "text": [
            "0    40.721319\n",
            "1    40.711303\n",
            "2    40.761270\n",
            "3    40.733143\n",
            "4    40.768008\n",
            "Name: latitude_of_pickup, dtype: float64\n",
            "0    40.712278\n",
            "1    40.782004\n",
            "2    40.750562\n",
            "3    40.758092\n",
            "4    40.783762\n",
            "Name: latitude_of_dropoff, dtype: float64\n"
          ]
        }
      ]
    },
    {
      "metadata": {
        "_uuid": "4321b8d57109efde0d0797c8d14092a93fd8614e",
        "id": "paoF3ug771u2"
      },
      "cell_type": "markdown",
      "source": [
        "-------------------------------\n",
        "Check test data latitude and longitude range for New your City (40° 42' 51\" N / 74° 0' 23\" W)"
      ]
    },
    {
      "metadata": {
        "trusted": true,
        "_uuid": "397fe7d4c8368f96e5d20df1985937750f959485",
        "colab": {
          "base_uri": "https://localhost:8080/",
          "height": 322
        },
        "id": "JfV6D96H71u2",
        "outputId": "c162b7fe-686b-40c7-b0bf-cf10cebf8871"
      },
      "cell_type": "code",
      "source": [
        "test_data=pd.read_csv('TaxiFare.csv')\n",
        "test_data.head(5)"
      ],
      "execution_count": 183,
      "outputs": [
        {
          "output_type": "execute_result",
          "data": {
            "text/plain": [
              "  unique_id  amount      date_time_of_pickup  longitude_of_pickup  \\\n",
              "0   26:21.0     4.5  2009-06-15 17:26:21 UTC           -73.844311   \n",
              "1   52:16.0    16.9  2010-01-05 16:52:16 UTC           -74.016048   \n",
              "2   35:00.0     5.7  2011-08-18 00:35:00 UTC           -73.982738   \n",
              "3   30:42.0     7.7  2012-04-21 04:30:42 UTC           -73.987130   \n",
              "4   51:00.0     5.3  2010-03-09 07:51:00 UTC           -73.968095   \n",
              "\n",
              "   latitude_of_pickup  longitude_of_dropoff  latitude_of_dropoff  \\\n",
              "0           40.721319            -73.841610            40.712278   \n",
              "1           40.711303            -73.979268            40.782004   \n",
              "2           40.761270            -73.991242            40.750562   \n",
              "3           40.733143            -73.991567            40.758092   \n",
              "4           40.768008            -73.956655            40.783762   \n",
              "\n",
              "   no_of_passenger  \n",
              "0                1  \n",
              "1                1  \n",
              "2                2  \n",
              "3                1  \n",
              "4                1  "
            ],
            "text/html": [
              "\n",
              "\n",
              "  <div id=\"df-5093189b-3e1c-40db-82de-a7c4cb1df4e5\">\n",
              "    <div class=\"colab-df-container\">\n",
              "      <div>\n",
              "<style scoped>\n",
              "    .dataframe tbody tr th:only-of-type {\n",
              "        vertical-align: middle;\n",
              "    }\n",
              "\n",
              "    .dataframe tbody tr th {\n",
              "        vertical-align: top;\n",
              "    }\n",
              "\n",
              "    .dataframe thead th {\n",
              "        text-align: right;\n",
              "    }\n",
              "</style>\n",
              "<table border=\"1\" class=\"dataframe\">\n",
              "  <thead>\n",
              "    <tr style=\"text-align: right;\">\n",
              "      <th></th>\n",
              "      <th>unique_id</th>\n",
              "      <th>amount</th>\n",
              "      <th>date_time_of_pickup</th>\n",
              "      <th>longitude_of_pickup</th>\n",
              "      <th>latitude_of_pickup</th>\n",
              "      <th>longitude_of_dropoff</th>\n",
              "      <th>latitude_of_dropoff</th>\n",
              "      <th>no_of_passenger</th>\n",
              "    </tr>\n",
              "  </thead>\n",
              "  <tbody>\n",
              "    <tr>\n",
              "      <th>0</th>\n",
              "      <td>26:21.0</td>\n",
              "      <td>4.5</td>\n",
              "      <td>2009-06-15 17:26:21 UTC</td>\n",
              "      <td>-73.844311</td>\n",
              "      <td>40.721319</td>\n",
              "      <td>-73.841610</td>\n",
              "      <td>40.712278</td>\n",
              "      <td>1</td>\n",
              "    </tr>\n",
              "    <tr>\n",
              "      <th>1</th>\n",
              "      <td>52:16.0</td>\n",
              "      <td>16.9</td>\n",
              "      <td>2010-01-05 16:52:16 UTC</td>\n",
              "      <td>-74.016048</td>\n",
              "      <td>40.711303</td>\n",
              "      <td>-73.979268</td>\n",
              "      <td>40.782004</td>\n",
              "      <td>1</td>\n",
              "    </tr>\n",
              "    <tr>\n",
              "      <th>2</th>\n",
              "      <td>35:00.0</td>\n",
              "      <td>5.7</td>\n",
              "      <td>2011-08-18 00:35:00 UTC</td>\n",
              "      <td>-73.982738</td>\n",
              "      <td>40.761270</td>\n",
              "      <td>-73.991242</td>\n",
              "      <td>40.750562</td>\n",
              "      <td>2</td>\n",
              "    </tr>\n",
              "    <tr>\n",
              "      <th>3</th>\n",
              "      <td>30:42.0</td>\n",
              "      <td>7.7</td>\n",
              "      <td>2012-04-21 04:30:42 UTC</td>\n",
              "      <td>-73.987130</td>\n",
              "      <td>40.733143</td>\n",
              "      <td>-73.991567</td>\n",
              "      <td>40.758092</td>\n",
              "      <td>1</td>\n",
              "    </tr>\n",
              "    <tr>\n",
              "      <th>4</th>\n",
              "      <td>51:00.0</td>\n",
              "      <td>5.3</td>\n",
              "      <td>2010-03-09 07:51:00 UTC</td>\n",
              "      <td>-73.968095</td>\n",
              "      <td>40.768008</td>\n",
              "      <td>-73.956655</td>\n",
              "      <td>40.783762</td>\n",
              "      <td>1</td>\n",
              "    </tr>\n",
              "  </tbody>\n",
              "</table>\n",
              "</div>\n",
              "      <button class=\"colab-df-convert\" onclick=\"convertToInteractive('df-5093189b-3e1c-40db-82de-a7c4cb1df4e5')\"\n",
              "              title=\"Convert this dataframe to an interactive table.\"\n",
              "              style=\"display:none;\">\n",
              "\n",
              "  <svg xmlns=\"http://www.w3.org/2000/svg\" height=\"24px\"viewBox=\"0 0 24 24\"\n",
              "       width=\"24px\">\n",
              "    <path d=\"M0 0h24v24H0V0z\" fill=\"none\"/>\n",
              "    <path d=\"M18.56 5.44l.94 2.06.94-2.06 2.06-.94-2.06-.94-.94-2.06-.94 2.06-2.06.94zm-11 1L8.5 8.5l.94-2.06 2.06-.94-2.06-.94L8.5 2.5l-.94 2.06-2.06.94zm10 10l.94 2.06.94-2.06 2.06-.94-2.06-.94-.94-2.06-.94 2.06-2.06.94z\"/><path d=\"M17.41 7.96l-1.37-1.37c-.4-.4-.92-.59-1.43-.59-.52 0-1.04.2-1.43.59L10.3 9.45l-7.72 7.72c-.78.78-.78 2.05 0 2.83L4 21.41c.39.39.9.59 1.41.59.51 0 1.02-.2 1.41-.59l7.78-7.78 2.81-2.81c.8-.78.8-2.07 0-2.86zM5.41 20L4 18.59l7.72-7.72 1.47 1.35L5.41 20z\"/>\n",
              "  </svg>\n",
              "      </button>\n",
              "\n",
              "\n",
              "\n",
              "    <div id=\"df-ee946958-4666-485d-88f3-7b72cfccd149\">\n",
              "      <button class=\"colab-df-quickchart\" onclick=\"quickchart('df-ee946958-4666-485d-88f3-7b72cfccd149')\"\n",
              "              title=\"Suggest charts.\"\n",
              "              style=\"display:none;\">\n",
              "\n",
              "<svg xmlns=\"http://www.w3.org/2000/svg\" height=\"24px\"viewBox=\"0 0 24 24\"\n",
              "     width=\"24px\">\n",
              "    <g>\n",
              "        <path d=\"M19 3H5c-1.1 0-2 .9-2 2v14c0 1.1.9 2 2 2h14c1.1 0 2-.9 2-2V5c0-1.1-.9-2-2-2zM9 17H7v-7h2v7zm4 0h-2V7h2v10zm4 0h-2v-4h2v4z\"/>\n",
              "    </g>\n",
              "</svg>\n",
              "      </button>\n",
              "    </div>\n",
              "\n",
              "<style>\n",
              "  .colab-df-quickchart {\n",
              "    background-color: #E8F0FE;\n",
              "    border: none;\n",
              "    border-radius: 50%;\n",
              "    cursor: pointer;\n",
              "    display: none;\n",
              "    fill: #1967D2;\n",
              "    height: 32px;\n",
              "    padding: 0 0 0 0;\n",
              "    width: 32px;\n",
              "  }\n",
              "\n",
              "  .colab-df-quickchart:hover {\n",
              "    background-color: #E2EBFA;\n",
              "    box-shadow: 0px 1px 2px rgba(60, 64, 67, 0.3), 0px 1px 3px 1px rgba(60, 64, 67, 0.15);\n",
              "    fill: #174EA6;\n",
              "  }\n",
              "\n",
              "  [theme=dark] .colab-df-quickchart {\n",
              "    background-color: #3B4455;\n",
              "    fill: #D2E3FC;\n",
              "  }\n",
              "\n",
              "  [theme=dark] .colab-df-quickchart:hover {\n",
              "    background-color: #434B5C;\n",
              "    box-shadow: 0px 1px 3px 1px rgba(0, 0, 0, 0.15);\n",
              "    filter: drop-shadow(0px 1px 2px rgba(0, 0, 0, 0.3));\n",
              "    fill: #FFFFFF;\n",
              "  }\n",
              "</style>\n",
              "\n",
              "    <script>\n",
              "      async function quickchart(key) {\n",
              "        const containerElement = document.querySelector('#' + key);\n",
              "        const charts = await google.colab.kernel.invokeFunction(\n",
              "            'suggestCharts', [key], {});\n",
              "      }\n",
              "    </script>\n",
              "\n",
              "      <script>\n",
              "\n",
              "function displayQuickchartButton(domScope) {\n",
              "  let quickchartButtonEl =\n",
              "    domScope.querySelector('#df-ee946958-4666-485d-88f3-7b72cfccd149 button.colab-df-quickchart');\n",
              "  quickchartButtonEl.style.display =\n",
              "    google.colab.kernel.accessAllowed ? 'block' : 'none';\n",
              "}\n",
              "\n",
              "        displayQuickchartButton(document);\n",
              "      </script>\n",
              "      <style>\n",
              "    .colab-df-container {\n",
              "      display:flex;\n",
              "      flex-wrap:wrap;\n",
              "      gap: 12px;\n",
              "    }\n",
              "\n",
              "    .colab-df-convert {\n",
              "      background-color: #E8F0FE;\n",
              "      border: none;\n",
              "      border-radius: 50%;\n",
              "      cursor: pointer;\n",
              "      display: none;\n",
              "      fill: #1967D2;\n",
              "      height: 32px;\n",
              "      padding: 0 0 0 0;\n",
              "      width: 32px;\n",
              "    }\n",
              "\n",
              "    .colab-df-convert:hover {\n",
              "      background-color: #E2EBFA;\n",
              "      box-shadow: 0px 1px 2px rgba(60, 64, 67, 0.3), 0px 1px 3px 1px rgba(60, 64, 67, 0.15);\n",
              "      fill: #174EA6;\n",
              "    }\n",
              "\n",
              "    [theme=dark] .colab-df-convert {\n",
              "      background-color: #3B4455;\n",
              "      fill: #D2E3FC;\n",
              "    }\n",
              "\n",
              "    [theme=dark] .colab-df-convert:hover {\n",
              "      background-color: #434B5C;\n",
              "      box-shadow: 0px 1px 3px 1px rgba(0, 0, 0, 0.15);\n",
              "      filter: drop-shadow(0px 1px 2px rgba(0, 0, 0, 0.3));\n",
              "      fill: #FFFFFF;\n",
              "    }\n",
              "  </style>\n",
              "\n",
              "      <script>\n",
              "        const buttonEl =\n",
              "          document.querySelector('#df-5093189b-3e1c-40db-82de-a7c4cb1df4e5 button.colab-df-convert');\n",
              "        buttonEl.style.display =\n",
              "          google.colab.kernel.accessAllowed ? 'block' : 'none';\n",
              "\n",
              "        async function convertToInteractive(key) {\n",
              "          const element = document.querySelector('#df-5093189b-3e1c-40db-82de-a7c4cb1df4e5');\n",
              "          const dataTable =\n",
              "            await google.colab.kernel.invokeFunction('convertToInteractive',\n",
              "                                                     [key], {});\n",
              "          if (!dataTable) return;\n",
              "\n",
              "          const docLinkHtml = 'Like what you see? Visit the ' +\n",
              "            '<a target=\"_blank\" href=https://colab.research.google.com/notebooks/data_table.ipynb>data table notebook</a>'\n",
              "            + ' to learn more about interactive tables.';\n",
              "          element.innerHTML = '';\n",
              "          dataTable['output_type'] = 'display_data';\n",
              "          await google.colab.output.renderOutput(dataTable, element);\n",
              "          const docLink = document.createElement('div');\n",
              "          docLink.innerHTML = docLinkHtml;\n",
              "          element.appendChild(docLink);\n",
              "        }\n",
              "      </script>\n",
              "    </div>\n",
              "  </div>\n"
            ]
          },
          "metadata": {},
          "execution_count": 183
        }
      ]
    },
    {
      "metadata": {
        "_uuid": "e1e6254bac1d04b5bce8e68cb43824e203ff2a18",
        "id": "pI2VrIww71u3"
      },
      "cell_type": "markdown",
      "source": [
        "longitude  max and min (test data)"
      ]
    },
    {
      "metadata": {
        "trusted": true,
        "_uuid": "c80dd2866b9b4d39871e51182168159992e4a7c8",
        "colab": {
          "base_uri": "https://localhost:8080/"
        },
        "id": "nHzgicp871u3",
        "outputId": "854df499-62fb-4398-d7e3-3e17e83e5f95"
      },
      "cell_type": "code",
      "source": [
        "# Specify the correct columns to be used\n",
        "cols = ['amount', 'date_time_of_pickup', 'longitude_of_pickup', 'latitude_of_pickup', 'longitude_of_dropoff', 'latitude_of_dropoff', 'no_of_passenger']\n",
        "\n",
        "# Read the CSV file again, selecting only the desired columns\n",
        "test_data = pd.read_csv(\"TaxiFare.csv\", nrows=3900000, usecols=cols)\n",
        "\n",
        "# Get the minimum and maximum longitude values\n",
        "lon_min = min(test_data['longitude_of_pickup'].min(), test_data['longitude_of_dropoff'].min())\n",
        "lon_max = max(test_data['longitude_of_pickup'].max(), test_data['longitude_of_dropoff'].max())\n",
        "\n",
        "print(lon_min, ',', lon_max)"
      ],
      "execution_count": 186,
      "outputs": [
        {
          "output_type": "stream",
          "name": "stdout",
          "text": [
            "-84.654241 , 40.851027\n"
          ]
        }
      ]
    },
    {
      "metadata": {
        "_uuid": "cb4a5a290c570e2e57f954e66e63012167d954cb",
        "id": "0RaIEbDB71u3"
      },
      "cell_type": "markdown",
      "source": [
        "latitude max and min (test data)"
      ]
    },
    {
      "metadata": {
        "trusted": true,
        "_uuid": "e2c811456412af629f6b40da4ff4c6e3a614270d",
        "colab": {
          "base_uri": "https://localhost:8080/"
        },
        "id": "NLhcwmD371u3",
        "outputId": "80f3372e-50fd-4c1c-98ba-e34208fa1042"
      },
      "cell_type": "code",
      "source": [
        "# Specify the correct columns to be used\n",
        "cols = ['amount', 'date_time_of_pickup', 'longitude_of_pickup', 'latitude_of_pickup', 'longitude_of_dropoff', 'latitude_of_dropoff', 'no_of_passenger']\n",
        "\n",
        "# Read the CSV file again, selecting only the desired columns\n",
        "test_data = pd.read_csv(\"TaxiFare.csv\", nrows=3900000, usecols=cols)\n",
        "\n",
        "# Filter out invalid latitude values (outside the range -90 to 90 degrees)\n",
        "valid_latitude_mask = (test_data['latitude_of_pickup'].between(-90, 90)) & (test_data['latitude_of_dropoff'].between(-90, 90))\n",
        "test_data = test_data[valid_latitude_mask]\n",
        "\n",
        "# Get the minimum and maximum latitude values\n",
        "lat_min = min(test_data['latitude_of_pickup'].min(), test_data['latitude_of_dropoff'].min())\n",
        "lat_max = max(test_data['latitude_of_pickup'].max(), test_data['latitude_of_dropoff'].max())\n",
        "\n",
        "print(lat_min, ',', lat_max)"
      ],
      "execution_count": 187,
      "outputs": [
        {
          "output_type": "stream",
          "name": "stdout",
          "text": [
            "-74.006893 , 43.41519\n"
          ]
        }
      ]
    },
    {
      "metadata": {
        "_uuid": "e064ced4ce303e6dacb386c4781c3b1410def26f",
        "id": "67q7lxkD71u3"
      },
      "cell_type": "markdown",
      "source": [
        "--------------------------------------------"
      ]
    },
    {
      "metadata": {
        "trusted": true,
        "_uuid": "febba076243392612dce6b5c8ddfbc364380c1c4",
        "id": "VHFKW2Uc71u3"
      },
      "cell_type": "code",
      "source": [
        "# Specify the correct columns to be used\n",
        "cols = ['amount', 'date_time_of_pickup', 'longitude_of_pickup', 'latitude_of_pickup', 'longitude_of_dropoff', 'latitude_of_dropoff', 'no_of_passenger']\n",
        "\n",
        "# Select only the desired columns\n",
        "train_data = train_data[cols]\n",
        "\n",
        "# Filter out rows with invalid latitude values (pickup_latitude & dropoff_latitude within lat_min and lat_max)\n",
        "valid_latitude_mask = (train_data['latitude_of_pickup'].between(lat_min, lat_max)) & (train_data['latitude_of_dropoff'].between(lat_min, lat_max))\n",
        "train_data = train_data[valid_latitude_mask]"
      ],
      "execution_count": 192,
      "outputs": []
    },
    {
      "metadata": {
        "trusted": true,
        "_uuid": "d4a7f89b35206b2045692e2808bdb0a32c8f5ec3",
        "id": "YNcZ7Qpb71u4"
      },
      "cell_type": "code",
      "source": [
        "# Specify the correct columns to be used\n",
        "cols = ['amount', 'date_time_of_pickup', 'longitude_of_pickup', 'latitude_of_pickup', 'longitude_of_dropoff', 'latitude_of_dropoff', 'no_of_passenger']\n",
        "\n",
        "# Select only the desired columns\n",
        "data = data[cols]\n",
        "\n",
        "# Filter out rows with invalid latitude values (pickup_latitude & dropoff_latitude within lat_min and lat_max)\n",
        "valid_latitude_mask = (data['latitude_of_pickup'].between(lat_min, lat_max)) & (data['latitude_of_dropoff'].between(lat_min, lat_max))\n",
        "data = data[valid_latitude_mask]\n"
      ],
      "execution_count": 191,
      "outputs": []
    },
    {
      "metadata": {
        "trusted": true,
        "_uuid": "2080b7d92b42fe5015d36eaf2d348ca152f69255",
        "id": "bjorxvBb71u4"
      },
      "cell_type": "code",
      "source": [
        "# Specify the correct columns to be used\n",
        "cols = ['amount', 'date_time_of_pickup', 'longitude_of_pickup', 'latitude_of_pickup', 'longitude_of_dropoff', 'latitude_of_dropoff', 'no_of_passenger']\n",
        "\n",
        "# Select only the desired columns\n",
        "data = data[cols]\n",
        "\n",
        "# Filter out rows with invalid latitude values (dropoff_latitude within lat_min and lat_max)\n",
        "valid_latitude_mask = (data['latitude_of_dropoff'].between(lat_min, lat_max))\n",
        "data = data[valid_latitude_mask]"
      ],
      "execution_count": 193,
      "outputs": []
    },
    {
      "metadata": {
        "trusted": true,
        "_uuid": "d4b7f99eaac0166f9e9e89dbd3eaa9c934b5db00",
        "id": "7-WC75A171u4"
      },
      "cell_type": "code",
      "source": [
        "# Specify the correct columns to be used\n",
        "cols = ['amount', 'date_time_of_pickup', 'longitude_of_pickup', 'latitude_of_pickup', 'longitude_of_dropoff', 'latitude_of_dropoff', 'no_of_passenger']\n",
        "\n",
        "# Select only the desired columns\n",
        "data = data[cols]\n",
        "\n",
        "# Filter out rows with invalid dropoff latitude values (latitude_of_dropoff within lat_min and lat_max)\n",
        "valid_latitude_mask = (data['latitude_of_dropoff'].between(lat_min, lat_max))\n",
        "data = data[valid_latitude_mask]"
      ],
      "execution_count": 194,
      "outputs": []
    },
    {
      "metadata": {
        "trusted": true,
        "_uuid": "46bfc32364d5be517666e39b4aef228a9c0c4c54",
        "id": "wO99Ojm871u4"
      },
      "cell_type": "code",
      "source": [
        "# Specify the correct columns to be used\n",
        "cols = ['amount', 'date_time_of_pickup', 'longitude_of_pickup', 'latitude_of_pickup', 'longitude_of_dropoff', 'latitude_of_dropoff', 'no_of_passenger']\n",
        "\n",
        "# Select only the desired columns\n",
        "data = data[cols]\n",
        "\n",
        "# Filter out rows with invalid longitude values (pickup_longitude & dropoff_longitude within lon_min and lon_max)\n",
        "valid_longitude_mask = (data['longitude_of_pickup'].between(lon_min, lon_max)) & (data['longitude_of_dropoff'].between(lon_min, lon_max))\n",
        "data = data[valid_longitude_mask]\n"
      ],
      "execution_count": 195,
      "outputs": []
    },
    {
      "metadata": {
        "trusted": true,
        "_uuid": "837578bb5f0b25dbc3a5855cb9a55bd8601953fa",
        "colab": {
          "base_uri": "https://localhost:8080/"
        },
        "id": "4qQv4pUn71u4",
        "outputId": "17f9b151-e778-4ddc-976b-80212fa70189"
      },
      "cell_type": "code",
      "source": [
        "# Specify the correct columns to be used\n",
        "cols = ['amount', 'date_time_of_pickup', 'longitude_of_pickup', 'latitude_of_pickup', 'longitude_of_dropoff', 'latitude_of_dropoff', 'no_of_passenger']\n",
        "\n",
        "# Select only the desired columns\n",
        "data = data[cols]\n",
        "\n",
        "# Calculate the absolute values of pickup longitude and display the first 5 rows\n",
        "data['abs_pickup_longitude'] = data['longitude_of_pickup'].abs()\n",
        "print(data['abs_pickup_longitude'].head())"
      ],
      "execution_count": 196,
      "outputs": [
        {
          "output_type": "stream",
          "name": "stdout",
          "text": [
            "0    73.844311\n",
            "1    74.016048\n",
            "2    73.982738\n",
            "3    73.987130\n",
            "4    73.968095\n",
            "Name: abs_pickup_longitude, dtype: float64\n"
          ]
        }
      ]
    },
    {
      "metadata": {
        "trusted": true,
        "_uuid": "a382c66acf309a39747bea8a27955a8dea8306c3",
        "id": "jK1S-evh71u5"
      },
      "cell_type": "code",
      "source": [
        "# Specify the correct columns to be used\n",
        "cols = ['amount', 'date_time_of_pickup', 'longitude_of_pickup', 'latitude_of_pickup', 'longitude_of_dropoff', 'latitude_of_dropoff', 'no_of_passenger']\n",
        "\n",
        "# Select only the desired columns\n",
        "data = data[cols]\n",
        "\n",
        "# Filter out rows with invalid pickup longitude values (longitude_of_pickup within lon_min and lon_max)\n",
        "valid_longitude_mask = (data['longitude_of_pickup'].between(lon_min, lon_max))\n",
        "data = data[valid_longitude_mask]\n"
      ],
      "execution_count": 197,
      "outputs": []
    },
    {
      "metadata": {
        "trusted": true,
        "_uuid": "8b1a5664927cbc2a0e7dfb615e06b8ad7b0a8fd7",
        "id": "t1JyLmXJ71u5"
      },
      "cell_type": "code",
      "source": [
        "# Specify the correct columns to be used\n",
        "cols = ['amount', 'date_time_of_pickup', 'longitude_of_pickup', 'latitude_of_pickup', 'longitude_of_dropoff', 'latitude_of_dropoff', 'no_of_passenger']\n",
        "\n",
        "# Select only the desired columns\n",
        "data = data[cols]\n",
        "\n",
        "# Filter out rows with invalid pickup longitude values (longitude_of_pickup within lon_min and lon_max)\n",
        "valid_longitude_mask = (data['longitude_of_pickup'].between(lon_min, lon_max))\n",
        "data = data[valid_longitude_mask]"
      ],
      "execution_count": 198,
      "outputs": []
    },
    {
      "metadata": {
        "trusted": true,
        "_uuid": "27466b55b55d4ebf3488213fc72bbbe9a5362af7",
        "id": "4aIvA8Oe71u6"
      },
      "cell_type": "code",
      "source": [
        "cols = ['amount', 'date_time_of_pickup', 'longitude_of_pickup', 'latitude_of_pickup', 'longitude_of_dropoff', 'latitude_of_dropoff', 'no_of_passenger']\n",
        "\n",
        "# Select only the desired columns\n",
        "data = data[cols]\n",
        "\n",
        "# Filter out rows with invalid dropoff longitude values (longitude_of_dropoff within lon_min and lon_max)\n",
        "valid_longitude_mask = (data['longitude_of_dropoff'].between(lon_min, lon_max))\n",
        "data = data[valid_longitude_mask]"
      ],
      "execution_count": 199,
      "outputs": []
    },
    {
      "metadata": {
        "trusted": true,
        "_uuid": "2d4f38db74f09d88d470aacc181894db262575b6",
        "id": "TCuuiiZu71u6"
      },
      "cell_type": "code",
      "source": [
        "data.drop(data[(data.longitude_of_dropoff < lon_min) | (data.longitude_of_dropoff > lon_max)].index, axis=0, inplace=True)\n"
      ],
      "execution_count": 200,
      "outputs": []
    },
    {
      "metadata": {
        "_uuid": "2f8d19d35b5ea0e620758e5ddeb57ef6b8f1d4ad",
        "id": "qdkV0Yst71u7"
      },
      "cell_type": "markdown",
      "source": [
        "\n",
        "let's see NaN Values now from both dropoff_longitude and dropoff_latitude ."
      ]
    },
    {
      "metadata": {
        "trusted": true,
        "_uuid": "a822b173d5815db87febaf18e4124d26e1d2f64b",
        "colab": {
          "base_uri": "https://localhost:8080/"
        },
        "id": "JIlOeVGV71u7",
        "outputId": "4981efc8-8196-40e3-d91f-b85977e58a78"
      },
      "cell_type": "code",
      "source": [
        "data.isnull().sum()"
      ],
      "execution_count": 201,
      "outputs": [
        {
          "output_type": "execute_result",
          "data": {
            "text/plain": [
              "amount                  0\n",
              "date_time_of_pickup     0\n",
              "longitude_of_pickup     0\n",
              "latitude_of_pickup      0\n",
              "longitude_of_dropoff    0\n",
              "latitude_of_dropoff     0\n",
              "no_of_passenger         0\n",
              "dtype: int64"
            ]
          },
          "metadata": {},
          "execution_count": 201
        }
      ]
    },
    {
      "metadata": {
        "trusted": true,
        "_uuid": "add136ef7996e158122394022218d91e6bef0f4f",
        "colab": {
          "base_uri": "https://localhost:8080/"
        },
        "id": "tohxio3c71u7",
        "outputId": "fb4c9bc2-4623-489b-cb0e-f5edc2e9cb98"
      },
      "cell_type": "code",
      "source": [
        "# Check for missing values in the 'longitude_of_dropoff' column\n",
        "missing_dropoff_longitude = data[data['longitude_of_dropoff'].isnull()]\n",
        "\n",
        "# Display the first row where 'longitude_of_dropoff' is missing\n",
        "print(missing_dropoff_longitude.head(1))"
      ],
      "execution_count": 203,
      "outputs": [
        {
          "output_type": "stream",
          "name": "stdout",
          "text": [
            "Empty DataFrame\n",
            "Columns: [unique_id, amount, date_time_of_pickup, longitude_of_pickup, latitude_of_pickup, longitude_of_dropoff, latitude_of_dropoff, no_of_passenger]\n",
            "Index: []\n"
          ]
        }
      ]
    },
    {
      "metadata": {
        "trusted": true,
        "_uuid": "b5ea7cf87aa3b50e55fd7250499943aee6a0fe88",
        "colab": {
          "base_uri": "https://localhost:8080/"
        },
        "id": "-mzu4Ecx71u8",
        "outputId": "fa631155-6998-4069-d812-a8d19c3929ed"
      },
      "cell_type": "code",
      "source": [
        "data.isnull().sum()"
      ],
      "execution_count": 204,
      "outputs": [
        {
          "output_type": "execute_result",
          "data": {
            "text/plain": [
              "unique_id               0\n",
              "amount                  0\n",
              "date_time_of_pickup     0\n",
              "longitude_of_pickup     0\n",
              "latitude_of_pickup      0\n",
              "longitude_of_dropoff    0\n",
              "latitude_of_dropoff     0\n",
              "no_of_passenger         0\n",
              "dtype: int64"
            ]
          },
          "metadata": {},
          "execution_count": 204
        }
      ]
    },
    {
      "metadata": {
        "trusted": true,
        "_uuid": "867e318df2a3d01756c328deae572ef0237d0ab7",
        "id": "mVOXxUv271u7"
      },
      "cell_type": "code",
      "source": [
        "# Drop rows with missing values in the 'latitude_of_dropoff' column\n",
        "data.drop(data[data['latitude_of_dropoff'].isnull()].index, axis=0, inplace=True)"
      ],
      "execution_count": 205,
      "outputs": []
    },
    {
      "cell_type": "code",
      "source": [
        "print(data.columns)"
      ],
      "metadata": {
        "colab": {
          "base_uri": "https://localhost:8080/"
        },
        "id": "x6ovuHhlHchD",
        "outputId": "83e7dd26-117c-4e2a-bbe0-d5dd76e902a6"
      },
      "execution_count": 206,
      "outputs": [
        {
          "output_type": "stream",
          "name": "stdout",
          "text": [
            "Index(['unique_id', 'amount', 'date_time_of_pickup', 'longitude_of_pickup',\n",
            "       'latitude_of_pickup', 'longitude_of_dropoff', 'latitude_of_dropoff',\n",
            "       'no_of_passenger'],\n",
            "      dtype='object')\n"
          ]
        }
      ]
    },
    {
      "metadata": {
        "trusted": true,
        "_uuid": "852e9f2da2d488b17dfd64123e86e009d2ff25c5",
        "colab": {
          "base_uri": "https://localhost:8080/",
          "height": 364
        },
        "id": "aimgVEeF71u8",
        "outputId": "5ce4fc9b-5a10-4497-e057-e3674c309336"
      },
      "cell_type": "code",
      "source": [
        "data.describe()"
      ],
      "execution_count": 207,
      "outputs": [
        {
          "output_type": "execute_result",
          "data": {
            "text/plain": [
              "             amount  longitude_of_pickup  latitude_of_pickup  \\\n",
              "count  50000.000000         50000.000000        50000.000000   \n",
              "mean      11.364171           -72.509756           39.933759   \n",
              "std        9.685557            10.393860            6.224857   \n",
              "min       -5.000000           -75.423848          -74.006893   \n",
              "25%        6.000000           -73.992062           40.734880   \n",
              "50%        8.500000           -73.981840           40.752678   \n",
              "75%       12.500000           -73.967148           40.767360   \n",
              "max      200.000000            40.783472          401.083332   \n",
              "\n",
              "       longitude_of_dropoff  latitude_of_dropoff  no_of_passenger  \n",
              "count          50000.000000         50000.000000     50000.000000  \n",
              "mean             -72.504616            39.926251         1.667840  \n",
              "std               10.407570             6.014737         1.289195  \n",
              "min              -84.654241           -74.006377         0.000000  \n",
              "25%              -73.991152            40.734372         1.000000  \n",
              "50%              -73.980082            40.753372         1.000000  \n",
              "75%              -73.963584            40.768167         2.000000  \n",
              "max               40.851027            43.415190         6.000000  "
            ],
            "text/html": [
              "\n",
              "\n",
              "  <div id=\"df-0533fe2a-3334-4101-a773-875713d17ce1\">\n",
              "    <div class=\"colab-df-container\">\n",
              "      <div>\n",
              "<style scoped>\n",
              "    .dataframe tbody tr th:only-of-type {\n",
              "        vertical-align: middle;\n",
              "    }\n",
              "\n",
              "    .dataframe tbody tr th {\n",
              "        vertical-align: top;\n",
              "    }\n",
              "\n",
              "    .dataframe thead th {\n",
              "        text-align: right;\n",
              "    }\n",
              "</style>\n",
              "<table border=\"1\" class=\"dataframe\">\n",
              "  <thead>\n",
              "    <tr style=\"text-align: right;\">\n",
              "      <th></th>\n",
              "      <th>amount</th>\n",
              "      <th>longitude_of_pickup</th>\n",
              "      <th>latitude_of_pickup</th>\n",
              "      <th>longitude_of_dropoff</th>\n",
              "      <th>latitude_of_dropoff</th>\n",
              "      <th>no_of_passenger</th>\n",
              "    </tr>\n",
              "  </thead>\n",
              "  <tbody>\n",
              "    <tr>\n",
              "      <th>count</th>\n",
              "      <td>50000.000000</td>\n",
              "      <td>50000.000000</td>\n",
              "      <td>50000.000000</td>\n",
              "      <td>50000.000000</td>\n",
              "      <td>50000.000000</td>\n",
              "      <td>50000.000000</td>\n",
              "    </tr>\n",
              "    <tr>\n",
              "      <th>mean</th>\n",
              "      <td>11.364171</td>\n",
              "      <td>-72.509756</td>\n",
              "      <td>39.933759</td>\n",
              "      <td>-72.504616</td>\n",
              "      <td>39.926251</td>\n",
              "      <td>1.667840</td>\n",
              "    </tr>\n",
              "    <tr>\n",
              "      <th>std</th>\n",
              "      <td>9.685557</td>\n",
              "      <td>10.393860</td>\n",
              "      <td>6.224857</td>\n",
              "      <td>10.407570</td>\n",
              "      <td>6.014737</td>\n",
              "      <td>1.289195</td>\n",
              "    </tr>\n",
              "    <tr>\n",
              "      <th>min</th>\n",
              "      <td>-5.000000</td>\n",
              "      <td>-75.423848</td>\n",
              "      <td>-74.006893</td>\n",
              "      <td>-84.654241</td>\n",
              "      <td>-74.006377</td>\n",
              "      <td>0.000000</td>\n",
              "    </tr>\n",
              "    <tr>\n",
              "      <th>25%</th>\n",
              "      <td>6.000000</td>\n",
              "      <td>-73.992062</td>\n",
              "      <td>40.734880</td>\n",
              "      <td>-73.991152</td>\n",
              "      <td>40.734372</td>\n",
              "      <td>1.000000</td>\n",
              "    </tr>\n",
              "    <tr>\n",
              "      <th>50%</th>\n",
              "      <td>8.500000</td>\n",
              "      <td>-73.981840</td>\n",
              "      <td>40.752678</td>\n",
              "      <td>-73.980082</td>\n",
              "      <td>40.753372</td>\n",
              "      <td>1.000000</td>\n",
              "    </tr>\n",
              "    <tr>\n",
              "      <th>75%</th>\n",
              "      <td>12.500000</td>\n",
              "      <td>-73.967148</td>\n",
              "      <td>40.767360</td>\n",
              "      <td>-73.963584</td>\n",
              "      <td>40.768167</td>\n",
              "      <td>2.000000</td>\n",
              "    </tr>\n",
              "    <tr>\n",
              "      <th>max</th>\n",
              "      <td>200.000000</td>\n",
              "      <td>40.783472</td>\n",
              "      <td>401.083332</td>\n",
              "      <td>40.851027</td>\n",
              "      <td>43.415190</td>\n",
              "      <td>6.000000</td>\n",
              "    </tr>\n",
              "  </tbody>\n",
              "</table>\n",
              "</div>\n",
              "      <button class=\"colab-df-convert\" onclick=\"convertToInteractive('df-0533fe2a-3334-4101-a773-875713d17ce1')\"\n",
              "              title=\"Convert this dataframe to an interactive table.\"\n",
              "              style=\"display:none;\">\n",
              "\n",
              "  <svg xmlns=\"http://www.w3.org/2000/svg\" height=\"24px\"viewBox=\"0 0 24 24\"\n",
              "       width=\"24px\">\n",
              "    <path d=\"M0 0h24v24H0V0z\" fill=\"none\"/>\n",
              "    <path d=\"M18.56 5.44l.94 2.06.94-2.06 2.06-.94-2.06-.94-.94-2.06-.94 2.06-2.06.94zm-11 1L8.5 8.5l.94-2.06 2.06-.94-2.06-.94L8.5 2.5l-.94 2.06-2.06.94zm10 10l.94 2.06.94-2.06 2.06-.94-2.06-.94-.94-2.06-.94 2.06-2.06.94z\"/><path d=\"M17.41 7.96l-1.37-1.37c-.4-.4-.92-.59-1.43-.59-.52 0-1.04.2-1.43.59L10.3 9.45l-7.72 7.72c-.78.78-.78 2.05 0 2.83L4 21.41c.39.39.9.59 1.41.59.51 0 1.02-.2 1.41-.59l7.78-7.78 2.81-2.81c.8-.78.8-2.07 0-2.86zM5.41 20L4 18.59l7.72-7.72 1.47 1.35L5.41 20z\"/>\n",
              "  </svg>\n",
              "      </button>\n",
              "\n",
              "\n",
              "\n",
              "    <div id=\"df-614d67b2-5bb2-43cb-a070-7eecfc6c7406\">\n",
              "      <button class=\"colab-df-quickchart\" onclick=\"quickchart('df-614d67b2-5bb2-43cb-a070-7eecfc6c7406')\"\n",
              "              title=\"Suggest charts.\"\n",
              "              style=\"display:none;\">\n",
              "\n",
              "<svg xmlns=\"http://www.w3.org/2000/svg\" height=\"24px\"viewBox=\"0 0 24 24\"\n",
              "     width=\"24px\">\n",
              "    <g>\n",
              "        <path d=\"M19 3H5c-1.1 0-2 .9-2 2v14c0 1.1.9 2 2 2h14c1.1 0 2-.9 2-2V5c0-1.1-.9-2-2-2zM9 17H7v-7h2v7zm4 0h-2V7h2v10zm4 0h-2v-4h2v4z\"/>\n",
              "    </g>\n",
              "</svg>\n",
              "      </button>\n",
              "    </div>\n",
              "\n",
              "<style>\n",
              "  .colab-df-quickchart {\n",
              "    background-color: #E8F0FE;\n",
              "    border: none;\n",
              "    border-radius: 50%;\n",
              "    cursor: pointer;\n",
              "    display: none;\n",
              "    fill: #1967D2;\n",
              "    height: 32px;\n",
              "    padding: 0 0 0 0;\n",
              "    width: 32px;\n",
              "  }\n",
              "\n",
              "  .colab-df-quickchart:hover {\n",
              "    background-color: #E2EBFA;\n",
              "    box-shadow: 0px 1px 2px rgba(60, 64, 67, 0.3), 0px 1px 3px 1px rgba(60, 64, 67, 0.15);\n",
              "    fill: #174EA6;\n",
              "  }\n",
              "\n",
              "  [theme=dark] .colab-df-quickchart {\n",
              "    background-color: #3B4455;\n",
              "    fill: #D2E3FC;\n",
              "  }\n",
              "\n",
              "  [theme=dark] .colab-df-quickchart:hover {\n",
              "    background-color: #434B5C;\n",
              "    box-shadow: 0px 1px 3px 1px rgba(0, 0, 0, 0.15);\n",
              "    filter: drop-shadow(0px 1px 2px rgba(0, 0, 0, 0.3));\n",
              "    fill: #FFFFFF;\n",
              "  }\n",
              "</style>\n",
              "\n",
              "    <script>\n",
              "      async function quickchart(key) {\n",
              "        const containerElement = document.querySelector('#' + key);\n",
              "        const charts = await google.colab.kernel.invokeFunction(\n",
              "            'suggestCharts', [key], {});\n",
              "      }\n",
              "    </script>\n",
              "\n",
              "      <script>\n",
              "\n",
              "function displayQuickchartButton(domScope) {\n",
              "  let quickchartButtonEl =\n",
              "    domScope.querySelector('#df-614d67b2-5bb2-43cb-a070-7eecfc6c7406 button.colab-df-quickchart');\n",
              "  quickchartButtonEl.style.display =\n",
              "    google.colab.kernel.accessAllowed ? 'block' : 'none';\n",
              "}\n",
              "\n",
              "        displayQuickchartButton(document);\n",
              "      </script>\n",
              "      <style>\n",
              "    .colab-df-container {\n",
              "      display:flex;\n",
              "      flex-wrap:wrap;\n",
              "      gap: 12px;\n",
              "    }\n",
              "\n",
              "    .colab-df-convert {\n",
              "      background-color: #E8F0FE;\n",
              "      border: none;\n",
              "      border-radius: 50%;\n",
              "      cursor: pointer;\n",
              "      display: none;\n",
              "      fill: #1967D2;\n",
              "      height: 32px;\n",
              "      padding: 0 0 0 0;\n",
              "      width: 32px;\n",
              "    }\n",
              "\n",
              "    .colab-df-convert:hover {\n",
              "      background-color: #E2EBFA;\n",
              "      box-shadow: 0px 1px 2px rgba(60, 64, 67, 0.3), 0px 1px 3px 1px rgba(60, 64, 67, 0.15);\n",
              "      fill: #174EA6;\n",
              "    }\n",
              "\n",
              "    [theme=dark] .colab-df-convert {\n",
              "      background-color: #3B4455;\n",
              "      fill: #D2E3FC;\n",
              "    }\n",
              "\n",
              "    [theme=dark] .colab-df-convert:hover {\n",
              "      background-color: #434B5C;\n",
              "      box-shadow: 0px 1px 3px 1px rgba(0, 0, 0, 0.15);\n",
              "      filter: drop-shadow(0px 1px 2px rgba(0, 0, 0, 0.3));\n",
              "      fill: #FFFFFF;\n",
              "    }\n",
              "  </style>\n",
              "\n",
              "      <script>\n",
              "        const buttonEl =\n",
              "          document.querySelector('#df-0533fe2a-3334-4101-a773-875713d17ce1 button.colab-df-convert');\n",
              "        buttonEl.style.display =\n",
              "          google.colab.kernel.accessAllowed ? 'block' : 'none';\n",
              "\n",
              "        async function convertToInteractive(key) {\n",
              "          const element = document.querySelector('#df-0533fe2a-3334-4101-a773-875713d17ce1');\n",
              "          const dataTable =\n",
              "            await google.colab.kernel.invokeFunction('convertToInteractive',\n",
              "                                                     [key], {});\n",
              "          if (!dataTable) return;\n",
              "\n",
              "          const docLinkHtml = 'Like what you see? Visit the ' +\n",
              "            '<a target=\"_blank\" href=https://colab.research.google.com/notebooks/data_table.ipynb>data table notebook</a>'\n",
              "            + ' to learn more about interactive tables.';\n",
              "          element.innerHTML = '';\n",
              "          dataTable['output_type'] = 'display_data';\n",
              "          await google.colab.output.renderOutput(dataTable, element);\n",
              "          const docLink = document.createElement('div');\n",
              "          docLink.innerHTML = docLinkHtml;\n",
              "          element.appendChild(docLink);\n",
              "        }\n",
              "      </script>\n",
              "    </div>\n",
              "  </div>\n"
            ]
          },
          "metadata": {},
          "execution_count": 207
        }
      ]
    },
    {
      "metadata": {
        "trusted": true,
        "_uuid": "5da00dc32f11a179633578205b864a3536be61c1",
        "colab": {
          "base_uri": "https://localhost:8080/",
          "height": 450
        },
        "id": "v1xCSUrJ71u9",
        "outputId": "599e0686-6dbf-44b7-d70b-cbe400832819"
      },
      "cell_type": "code",
      "source": [
        "plt.scatter(x=data['no_of_passenger'], y=data.index)\n",
        "plt.ylabel('Index')\n",
        "plt.xlabel('no_of_passenger')\n",
        "plt.show()"
      ],
      "execution_count": 208,
      "outputs": [
        {
          "output_type": "display_data",
          "data": {
            "text/plain": [
              "<Figure size 640x480 with 1 Axes>"
            ],
            "image/png": "[encoded data removed]"
          },
          "metadata": {}
        }
      ]
    },
    {
      "metadata": {
        "trusted": true,
        "_uuid": "92e2f8f999cd05a5ee26f4ff6a4946a1bb2e58d9",
        "colab": {
          "base_uri": "https://localhost:8080/"
        },
        "id": "M-uL8yEV71u9",
        "outputId": "8c99c2f0-b2b8-4a51-c3ab-b9fc999c0eed"
      },
      "cell_type": "code",
      "source": [
        "data['no_of_passenger'][data['no_of_passenger'] == 0].count()"
      ],
      "execution_count": 209,
      "outputs": [
        {
          "output_type": "execute_result",
          "data": {
            "text/plain": [
              "165"
            ]
          },
          "metadata": {},
          "execution_count": 209
        }
      ]
    },
    {
      "metadata": {
        "trusted": true,
        "_uuid": "78a37a2533ff0e38ead49428b5546239ff40547d",
        "colab": {
          "base_uri": "https://localhost:8080/"
        },
        "id": "LRoBJvss71u9",
        "outputId": "3845f59e-a41e-4e25-ad04-e968c209879b"
      },
      "cell_type": "code",
      "source": [
        "print(data.shape)\n",
        "data.drop(data[data['no_of_passenger'] == 0].index, axis=0, inplace=True)\n",
        "print(data.shape)"
      ],
      "execution_count": 210,
      "outputs": [
        {
          "output_type": "stream",
          "name": "stdout",
          "text": [
            "(50000, 8)\n",
            "(49835, 8)\n"
          ]
        }
      ]
    },
    {
      "metadata": {
        "_uuid": "4cfcd26af1e9bf0078cb0bf9a83f4c32b0295b47",
        "id": "yRXCNbIL71u9"
      },
      "cell_type": "markdown",
      "source": [
        "Now,let's drop Outliers"
      ]
    },
    {
      "metadata": {
        "trusted": true,
        "_uuid": "55ebf32c8b35ca031e46c9f7d9e86637fcb75ad6",
        "colab": {
          "base_uri": "https://localhost:8080/"
        },
        "id": "tfL1fnVu71u9",
        "outputId": "05c5c8d4-9747-44cc-f806-c4673809222b"
      },
      "cell_type": "code",
      "source": [
        "print(data.shape)\n",
        "data.drop(data[data['no_of_passenger'] > 8].index, axis=0, inplace=True)\n",
        "print(data.shape)"
      ],
      "execution_count": 212,
      "outputs": [
        {
          "output_type": "stream",
          "name": "stdout",
          "text": [
            "(49835, 8)\n",
            "(49835, 8)\n"
          ]
        }
      ]
    },
    {
      "metadata": {
        "_uuid": "ddca2f87717ccaae912727ab1305c897fd3369de",
        "id": "1OwEFbyW71u-"
      },
      "cell_type": "markdown",
      "source": [
        "\n",
        "\n",
        "```\n",
        "# This is formatted as code\n",
        "```\n",
        "\n",
        "Data cleaning accomplished"
      ]
    },
    {
      "metadata": {
        "trusted": true,
        "_uuid": "a3548fea3f1a5e67cfa9c4361376a6f9ca150a7d",
        "colab": {
          "base_uri": "https://localhost:8080/"
        },
        "id": "ZJDowjsd71u-",
        "outputId": "53b186fe-b535-49f5-d98e-5e365881a540"
      },
      "cell_type": "code",
      "source": [
        "data.dtypes"
      ],
      "execution_count": 213,
      "outputs": [
        {
          "output_type": "execute_result",
          "data": {
            "text/plain": [
              "unique_id                object\n",
              "amount                  float64\n",
              "date_time_of_pickup      object\n",
              "longitude_of_pickup     float64\n",
              "latitude_of_pickup      float64\n",
              "longitude_of_dropoff    float64\n",
              "latitude_of_dropoff     float64\n",
              "no_of_passenger           int64\n",
              "dtype: object"
            ]
          },
          "metadata": {},
          "execution_count": 213
        }
      ]
    },
    {
      "metadata": {
        "trusted": true,
        "_uuid": "f0619d3bb21ac14810cef078ca9b652ded325521",
        "colab": {
          "base_uri": "https://localhost:8080/"
        },
        "id": "W0g1cU2H71u_",
        "outputId": "7b977e0d-68c6-49ac-f457-7d3ced3a9ea8"
      },
      "cell_type": "code",
      "source": [
        "data['date_time_of_pickup'] = pd.to_datetime(data['date_time_of_pickup'])\n",
        "\n",
        "# Check the data type and the first row of the 'date_time_of_pickup' column\n",
        "print(data['date_time_of_pickup'].dtype)\n",
        "print(data['date_time_of_pickup'].head(1))"
      ],
      "execution_count": 214,
      "outputs": [
        {
          "output_type": "stream",
          "name": "stdout",
          "text": [
            "datetime64[ns, UTC]\n",
            "0   2009-06-15 17:26:21+00:00\n",
            "Name: date_time_of_pickup, dtype: datetime64[ns, UTC]\n"
          ]
        }
      ]
    },
    {
      "metadata": {
        "trusted": true,
        "_uuid": "27f47327bff28ca43ea686ee2d27cba1257de817",
        "id": "Q257Ob0071u_"
      },
      "cell_type": "code",
      "source": [
        "data['date_time_of_pickup'] = pd.to_datetime(data['date_time_of_pickup'], infer_datetime_format=True)"
      ],
      "execution_count": 216,
      "outputs": []
    },
    {
      "metadata": {
        "trusted": true,
        "_uuid": "cb4ce2c28caf824566892bc54695ff0e7ec16553",
        "colab": {
          "base_uri": "https://localhost:8080/"
        },
        "id": "NhG4C9_C71vA",
        "outputId": "674910f6-f9eb-47d1-d6ba-5072e5a2c868"
      },
      "cell_type": "code",
      "source": [
        "data['date_time_of_pickup'].head(1)"
      ],
      "execution_count": 217,
      "outputs": [
        {
          "output_type": "execute_result",
          "data": {
            "text/plain": [
              "0   2009-06-15 17:26:21+00:00\n",
              "Name: date_time_of_pickup, dtype: datetime64[ns, UTC]"
            ]
          },
          "metadata": {},
          "execution_count": 217
        }
      ]
    },
    {
      "metadata": {
        "_uuid": "c1367cf74cc4856c98f153d16179517547061282",
        "id": "U2In6QU171vA"
      },
      "cell_type": "markdown",
      "source": [
        "\n",
        "split the datetime"
      ]
    },
    {
      "metadata": {
        "trusted": true,
        "_uuid": "05554fa46d09205327f8e07d3d8f2633440e9d31",
        "id": "CsO5B-kp71vA"
      },
      "cell_type": "code",
      "source": [
        "data['year'] = data['date_time_of_pickup'].dt.year\n",
        "data['Month'] = data['date_time_of_pickup'].dt.month\n",
        "data['Date'] = data['date_time_of_pickup'].dt.day\n",
        "data['Day of Week'] = data['date_time_of_pickup'].dt.dayofweek\n",
        "data['Hour'] = data['date_time_of_pickup'].dt.hour\n",
        "data['Minute'] = data['date_time_of_pickup'].dt.minute"
      ],
      "execution_count": 218,
      "outputs": []
    },
    {
      "metadata": {
        "_uuid": "0b8d0002a1a0b4fe448fcdb5e434f8e7882dc1cf",
        "id": "4N4PWGDp71vA"
      },
      "cell_type": "markdown",
      "source": [
        "**Distance find out**\n",
        "\n",
        "Calculate the distance based on longitude and latitude\n",
        "\n",
        "# The Haversine formula is as follows:\n",
        "\n",
        "# a = sin^2(Δlat/2) + cos(lat1) * cos(lat2) * sin^2(Δlon/2)\n",
        "\n",
        "# c = 2 * arcsin(a)\n",
        "\n",
        "# Distance = Radius of Earth * c\n",
        "\n",
        "# where:\n",
        "\n",
        "# lat1 and lon1 are the latitude and longitude of the first point, respectively.\n",
        "\n",
        "# lat2 and lon2 are the latitude and longitude of the second point, respectively.\n",
        "\n",
        "# Δlat and Δlon are the differences in latitude and longitude between the two points, respectively.\n",
        "\n",
        "# Radius of Earth is the radius of the Earth (usually taken as 6371 kilometers)."
      ]
    },
    {
      "metadata": {
        "trusted": true,
        "_uuid": "39a8f38b7ea7528fdb25546097cc1e2914eb6dab",
        "id": "Sh35b8n471vA"
      },
      "cell_type": "code",
      "source": [
        "from math import radians, cos, sin, asin, sqrt\n",
        "def haversine(a):\n",
        "    lon1=a[0]\n",
        "    lat1=a[1]\n",
        "    lon2=a[2]\n",
        "    lat2=a[3]\n",
        "    \"\"\"\n",
        "    Calculate the great circle distance between two points\n",
        "    on the earth (specified in decimal degrees)\n",
        "    \"\"\"\n",
        "    # convert decimal degrees to radians\n",
        "    lon1, lat1, lon2, lat2 = map(radians, [lon1, lat1, lon2, lat2])\n",
        "    # haversine formula\n",
        "    dlon = lon2 - lon1\n",
        "    dlat = lat2 - lat1\n",
        "    a = sin(dlat/2)**2 + cos(lat1) * cos(lat2) * sin(dlon/2)**2\n",
        "    c =  2 * asin(sqrt(a))\n",
        "    # Radius of earth in kilometers is 6371\n",
        "    km = 6371* c\n",
        "    return km\n",
        "# 1min"
      ],
      "execution_count": 219,
      "outputs": []
    },
    {
      "metadata": {
        "trusted": true,
        "_uuid": "490e4606cead6ab126d713dfdd9df5d6914a515a",
        "id": "8v1uVJ0J71vB"
      },
      "cell_type": "code",
      "source": [
        "def haversine(df):\n",
        "    # Convert latitude and longitude from degrees to radians\n",
        "    lat1 = np.radians(df['latitude_of_pickup'])\n",
        "    lon1 = np.radians(df['longitude_of_pickup'])\n",
        "    lat2 = np.radians(df['latitude_of_dropoff'])\n",
        "    lon2 = np.radians(df['longitude_of_dropoff'])\n",
        "\n",
        "    # Haversine formula\n",
        "    dlon = lon2 - lon1\n",
        "    dlat = lat2 - lat1\n",
        "    a = np.sin(dlat/2)**2 + np.cos(lat1) * np.cos(lat2) * np.sin(dlon/2)**2\n",
        "    c = 2 * np.arcsin(np.sqrt(a))\n",
        "    r = 6371  # Radius of Earth in kilometers\n",
        "    distance = c * r\n",
        "\n",
        "    return distance\n",
        "\n",
        "data['distance'] = haversine(data)"
      ],
      "execution_count": 220,
      "outputs": []
    },
    {
      "metadata": {
        "trusted": true,
        "_uuid": "f8cce93cd83e4c387ed367676f635d71b3907121",
        "colab": {
          "base_uri": "https://localhost:8080/"
        },
        "id": "hSabsMfj71vB",
        "outputId": "2d72a46d-04fb-4b9f-d57f-ca1f42f3f1a2"
      },
      "cell_type": "code",
      "source": [
        "data[\"distance\"].head(5)"
      ],
      "execution_count": 221,
      "outputs": [
        {
          "output_type": "execute_result",
          "data": {
            "text/plain": [
              "0    1.030764\n",
              "1    8.450134\n",
              "2    1.389525\n",
              "3    2.799270\n",
              "4    1.999157\n",
              "Name: distance, dtype: float64"
            ]
          },
          "metadata": {},
          "execution_count": 221
        }
      ]
    },
    {
      "metadata": {
        "trusted": true,
        "_uuid": "2e32156dfda46e3622dc8ac65d42da17efd63754",
        "colab": {
          "base_uri": "https://localhost:8080/"
        },
        "id": "ON49Q3k771vB",
        "outputId": "66dd7339-b9b6-4b23-80df-1c5c6954a808"
      },
      "cell_type": "code",
      "source": [
        "#Analyze column distance ,and drop the rows if necessary to drop\n",
        "data[data.distance==0].shape  # found records with 0 distnace"
      ],
      "execution_count": 222,
      "outputs": [
        {
          "output_type": "execute_result",
          "data": {
            "text/plain": [
              "(1446, 15)"
            ]
          },
          "metadata": {},
          "execution_count": 222
        }
      ]
    },
    {
      "metadata": {
        "trusted": true,
        "_uuid": "0e5aecfc56f7cc1a918e777a3add590b2b8394cf",
        "colab": {
          "base_uri": "https://localhost:8080/"
        },
        "id": "ZzgOfNbr71vB",
        "outputId": "37aea190-279d-47a5-9f55-b820772fbd49"
      },
      "cell_type": "code",
      "source": [
        "print(data.shape)\n",
        "data.drop(data[data.distance==0].index,axis=0, inplace=True) # drop the rows having records of distance as 0\n",
        "print(data.shape)"
      ],
      "execution_count": 223,
      "outputs": [
        {
          "output_type": "stream",
          "name": "stdout",
          "text": [
            "(49835, 15)\n",
            "(48389, 15)\n"
          ]
        }
      ]
    },
    {
      "metadata": {
        "_uuid": "fee9954947e719e68e53e26b28c9a02f248894a6",
        "id": "cqaNrUjy71vC"
      },
      "cell_type": "markdown",
      "source": [
        "**Exploratory Data Analysis**"
      ]
    },
    {
      "metadata": {
        "_uuid": "8e4371a5f374fe0b2a2d3a41005ddd53a8aa971b",
        "id": "T3JHtCjf71vC"
      },
      "cell_type": "markdown",
      "source": [
        "**1)Check the pickup date and time affect the fare or not**"
      ]
    },
    {
      "metadata": {
        "trusted": true,
        "_uuid": "f0891a205ec4fc82417d7af88d89510b3cafddbb",
        "colab": {
          "base_uri": "https://localhost:8080/",
          "height": 457
        },
        "id": "9bg--_Ju71vC",
        "outputId": "d77a0127-ec91-44e3-c604-f6e82d26ddfb"
      },
      "cell_type": "code",
      "source": [
        "plt.figure(figsize=(15, 7))\n",
        "plt.scatter(x=data['date_time_of_pickup'], y=data['amount'], s=1.5)\n",
        "plt.xlabel('Date')\n",
        "plt.ylabel('Fare Amount')\n",
        "plt.show()"
      ],
      "execution_count": 224,
      "outputs": [
        {
          "output_type": "display_data",
          "data": {
            "text/plain": [
              "<Figure size 1500x700 with 1 Axes>"
            ],
            "image/png": "[encoded data removed]"
          },
          "metadata": {}
        }
      ]
    },
    {
      "metadata": {
        "_uuid": "0e95a1a322a78f9029f8b57c5ec1d88be849c7e5",
        "id": "QnGijx1W71vD"
      },
      "cell_type": "markdown",
      "source": [
        "The fares throught the month majority seem same\n",
        "\n",
        "\n",
        "---\n",
        "\n",
        "\n",
        "\n"
      ]
    },
    {
      "metadata": {
        "trusted": true,
        "_uuid": "b36b2f79c2225af8dceef2af40c23a7ab3ceb13a",
        "colab": {
          "base_uri": "https://localhost:8080/",
          "height": 473
        },
        "id": "FLBW7aco71vD",
        "outputId": "bd282f9a-3628-47fe-b112-714d74e22e93"
      },
      "cell_type": "code",
      "source": [
        "plt.figure(figsize=(15,7))\n",
        "plt.hist(data['Hour'], bins=100)\n",
        "plt.xlabel('Hour')\n",
        "plt.ylabel('Frequency')"
      ],
      "execution_count": 228,
      "outputs": [
        {
          "output_type": "execute_result",
          "data": {
            "text/plain": [
              "Text(0, 0.5, 'Frequency')"
            ]
          },
          "metadata": {},
          "execution_count": 228
        },
        {
          "output_type": "display_data",
          "data": {
            "text/plain": [
              "<Figure size 1500x700 with 1 Axes>"
            ],
            "image/png": "[encoded data removed]"
          },
          "metadata": {}
        }
      ]
    },
    {
      "metadata": {
        "_uuid": "b4d3561ea9583ec6fee4c2e9b0f05012ef04e783",
        "id": "J5IrTXmh71vD"
      },
      "cell_type": "markdown",
      "source": [
        "The frequency of cab rides seem to be the lowest at 5AM"
      ]
    },
    {
      "metadata": {
        "trusted": true,
        "_uuid": "d70770d1d5ffa66d25c2cf4d22ce85a24411afcf",
        "colab": {
          "base_uri": "https://localhost:8080/",
          "height": 476
        },
        "id": "qKgiJeOY71vD",
        "outputId": "1ae37218-ba7d-45ed-e8af-4d158319baa8"
      },
      "cell_type": "code",
      "source": [
        "plt.figure(figsize=(15,7))\n",
        "plt.scatter(x=data['Hour'], y=data['amount'], s=1.5)\n",
        "plt.xlabel('Hour')\n",
        "plt.ylabel('Fare')\n"
      ],
      "execution_count": 230,
      "outputs": [
        {
          "output_type": "execute_result",
          "data": {
            "text/plain": [
              "Text(0, 0.5, 'Fare')"
            ]
          },
          "metadata": {},
          "execution_count": 230
        },
        {
          "output_type": "display_data",
          "data": {
            "text/plain": [
              "<Figure size 1500x700 with 1 Axes>"
            ],
            "image/png": "[encoded data removed]"
          },
          "metadata": {}
        }
      ]
    },
    {
      "metadata": {
        "_uuid": "d323bd74ac6ac8663f95944e50afea8029847c1c",
        "id": "rmVM5izB71vE"
      },
      "cell_type": "markdown",
      "source": [
        "Number of passengers vs fare\n",
        "\n"
      ]
    },
    {
      "metadata": {
        "trusted": true,
        "_uuid": "b61fa8a0e604272f815ea0b71c1ef976b7b3e4e8",
        "colab": {
          "base_uri": "https://localhost:8080/",
          "height": 470
        },
        "id": "w-vWHH-u71vE",
        "outputId": "56eaa460-f60d-4664-b7f6-3f8a24dfe6a0"
      },
      "cell_type": "code",
      "source": [
        "plt.figure(figsize=(15,7))\n",
        "plt.hist(data['no_of_passenger'], bins=15)\n",
        "plt.xlabel('No. of Passengers')\n",
        "plt.ylabel('Frequency')\n"
      ],
      "execution_count": 232,
      "outputs": [
        {
          "output_type": "execute_result",
          "data": {
            "text/plain": [
              "Text(0, 0.5, 'Frequency')"
            ]
          },
          "metadata": {},
          "execution_count": 232
        },
        {
          "output_type": "display_data",
          "data": {
            "text/plain": [
              "<Figure size 1500x700 with 1 Axes>"
            ],
            "image/png": "[encoded data removed]"
          },
          "metadata": {}
        }
      ]
    },
    {
      "metadata": {
        "trusted": true,
        "_uuid": "e11b4ec973cc9d5d24f50dd8a2102d2b63ac7a32",
        "colab": {
          "base_uri": "https://localhost:8080/",
          "height": 476
        },
        "id": "SXHuoOft71vE",
        "outputId": "1398ee08-9e95-459e-aac5-c47789e9a625"
      },
      "cell_type": "code",
      "source": [
        "plt.figure(figsize=(15, 7))\n",
        "plt.scatter(x=data['no_of_passenger'], y=data['amount'], s=1.5)\n",
        "plt.xlabel('No. of Passengers')\n",
        "plt.ylabel('Fare Amount')"
      ],
      "execution_count": 233,
      "outputs": [
        {
          "output_type": "execute_result",
          "data": {
            "text/plain": [
              "Text(0, 0.5, 'Fare Amount')"
            ]
          },
          "metadata": {},
          "execution_count": 233
        },
        {
          "output_type": "display_data",
          "data": {
            "text/plain": [
              "<Figure size 1500x700 with 1 Axes>"
            ],
            "image/png": "[encoded data removed]"
          },
          "metadata": {}
        }
      ]
    },
    {
      "metadata": {
        "_uuid": "b275d89ae848d98bd906066a65b2ce61f4c3b5f8",
        "id": "xajbu2yV71vE"
      },
      "cell_type": "markdown",
      "source": [
        "single passengers are the most frequent travellers, and the highest fare also seems to come from cabs which carry just 1 passenger."
      ]
    },
    {
      "metadata": {
        "_uuid": "2f6a9f7f64ef7a9737a19721535b751a877d8058",
        "id": "k1HLT3Sr71vF"
      },
      "cell_type": "markdown",
      "source": [
        "Does the day of the week affect the fare?"
      ]
    },
    {
      "metadata": {
        "trusted": true,
        "_uuid": "51a74a6425657640cde1f50d5008382601e85818",
        "colab": {
          "base_uri": "https://localhost:8080/",
          "height": 473
        },
        "id": "5AeXgwL771vF",
        "outputId": "f92791aa-8c31-49d1-97ff-11164af641c5"
      },
      "cell_type": "code",
      "source": [
        "plt.figure(figsize=(15,7))\n",
        "plt.hist(data['Day of Week'], bins=100)\n",
        "plt.xlabel('Day of Week')\n",
        "plt.ylabel('Frequency')\n",
        "#0 means Saturday"
      ],
      "execution_count": 234,
      "outputs": [
        {
          "output_type": "execute_result",
          "data": {
            "text/plain": [
              "Text(0, 0.5, 'Frequency')"
            ]
          },
          "metadata": {},
          "execution_count": 234
        },
        {
          "output_type": "display_data",
          "data": {
            "text/plain": [
              "<Figure size 1500x700 with 1 Axes>"
            ],
            "image/png": "[encoded data removed]"
          },
          "metadata": {}
        }
      ]
    },
    {
      "metadata": {
        "_uuid": "834a61fb231b1a333fcc17dd753dbc2fd3050922",
        "id": "R66R0k6271vF"
      },
      "cell_type": "markdown",
      "source": [
        " #Day of the week doesn't seem to have the effect on the number of cab rides"
      ]
    },
    {
      "metadata": {
        "_uuid": "0453896a0d38436e95561a38cdb40a02697f3fcd",
        "id": "j8f0mDOn71vF"
      },
      "cell_type": "markdown",
      "source": [
        "**Test Data**"
      ]
    },
    {
      "metadata": {
        "trusted": true,
        "_uuid": "c7909cea1a99cb64d3265405b8917f90c15d7960",
        "colab": {
          "base_uri": "https://localhost:8080/",
          "height": 322
        },
        "id": "Pq_Knmwh71vF",
        "outputId": "be64c460-bc64-4584-ec97-6848ad616dd8"
      },
      "cell_type": "code",
      "source": [
        "test_data=pd.read_csv(\"TaxiFare.csv\")\n",
        "test_data.head()"
      ],
      "execution_count": 124,
      "outputs": [
        {
          "output_type": "execute_result",
          "data": {
            "text/plain": [
              "  unique_id  amount      date_time_of_pickup  longitude_of_pickup  \\\n",
              "0   26:21.0     4.5  2009-06-15 17:26:21 UTC           -73.844311   \n",
              "1   52:16.0    16.9  2010-01-05 16:52:16 UTC           -74.016048   \n",
              "2   35:00.0     5.7  2011-08-18 00:35:00 UTC           -73.982738   \n",
              "3   30:42.0     7.7  2012-04-21 04:30:42 UTC           -73.987130   \n",
              "4   51:00.0     5.3  2010-03-09 07:51:00 UTC           -73.968095   \n",
              "\n",
              "   latitude_of_pickup  longitude_of_dropoff  latitude_of_dropoff  \\\n",
              "0           40.721319            -73.841610            40.712278   \n",
              "1           40.711303            -73.979268            40.782004   \n",
              "2           40.761270            -73.991242            40.750562   \n",
              "3           40.733143            -73.991567            40.758092   \n",
              "4           40.768008            -73.956655            40.783762   \n",
              "\n",
              "   no_of_passenger  \n",
              "0                1  \n",
              "1                1  \n",
              "2                2  \n",
              "3                1  \n",
              "4                1  "
            ],
            "text/html": [
              "\n",
              "\n",
              "  <div id=\"df-e3ea3f67-999b-4ecb-9277-d5711c4a02c5\">\n",
              "    <div class=\"colab-df-container\">\n",
              "      <div>\n",
              "<style scoped>\n",
              "    .dataframe tbody tr th:only-of-type {\n",
              "        vertical-align: middle;\n",
              "    }\n",
              "\n",
              "    .dataframe tbody tr th {\n",
              "        vertical-align: top;\n",
              "    }\n",
              "\n",
              "    .dataframe thead th {\n",
              "        text-align: right;\n",
              "    }\n",
              "</style>\n",
              "<table border=\"1\" class=\"dataframe\">\n",
              "  <thead>\n",
              "    <tr style=\"text-align: right;\">\n",
              "      <th></th>\n",
              "      <th>unique_id</th>\n",
              "      <th>amount</th>\n",
              "      <th>date_time_of_pickup</th>\n",
              "      <th>longitude_of_pickup</th>\n",
              "      <th>latitude_of_pickup</th>\n",
              "      <th>longitude_of_dropoff</th>\n",
              "      <th>latitude_of_dropoff</th>\n",
              "      <th>no_of_passenger</th>\n",
              "    </tr>\n",
              "  </thead>\n",
              "  <tbody>\n",
              "    <tr>\n",
              "      <th>0</th>\n",
              "      <td>26:21.0</td>\n",
              "      <td>4.5</td>\n",
              "      <td>2009-06-15 17:26:21 UTC</td>\n",
              "      <td>-73.844311</td>\n",
              "      <td>40.721319</td>\n",
              "      <td>-73.841610</td>\n",
              "      <td>40.712278</td>\n",
              "      <td>1</td>\n",
              "    </tr>\n",
              "    <tr>\n",
              "      <th>1</th>\n",
              "      <td>52:16.0</td>\n",
              "      <td>16.9</td>\n",
              "      <td>2010-01-05 16:52:16 UTC</td>\n",
              "      <td>-74.016048</td>\n",
              "      <td>40.711303</td>\n",
              "      <td>-73.979268</td>\n",
              "      <td>40.782004</td>\n",
              "      <td>1</td>\n",
              "    </tr>\n",
              "    <tr>\n",
              "      <th>2</th>\n",
              "      <td>35:00.0</td>\n",
              "      <td>5.7</td>\n",
              "      <td>2011-08-18 00:35:00 UTC</td>\n",
              "      <td>-73.982738</td>\n",
              "      <td>40.761270</td>\n",
              "      <td>-73.991242</td>\n",
              "      <td>40.750562</td>\n",
              "      <td>2</td>\n",
              "    </tr>\n",
              "    <tr>\n",
              "      <th>3</th>\n",
              "      <td>30:42.0</td>\n",
              "      <td>7.7</td>\n",
              "      <td>2012-04-21 04:30:42 UTC</td>\n",
              "      <td>-73.987130</td>\n",
              "      <td>40.733143</td>\n",
              "      <td>-73.991567</td>\n",
              "      <td>40.758092</td>\n",
              "      <td>1</td>\n",
              "    </tr>\n",
              "    <tr>\n",
              "      <th>4</th>\n",
              "      <td>51:00.0</td>\n",
              "      <td>5.3</td>\n",
              "      <td>2010-03-09 07:51:00 UTC</td>\n",
              "      <td>-73.968095</td>\n",
              "      <td>40.768008</td>\n",
              "      <td>-73.956655</td>\n",
              "      <td>40.783762</td>\n",
              "      <td>1</td>\n",
              "    </tr>\n",
              "  </tbody>\n",
              "</table>\n",
              "</div>\n",
              "      <button class=\"colab-df-convert\" onclick=\"convertToInteractive('df-e3ea3f67-999b-4ecb-9277-d5711c4a02c5')\"\n",
              "              title=\"Convert this dataframe to an interactive table.\"\n",
              "              style=\"display:none;\">\n",
              "\n",
              "  <svg xmlns=\"http://www.w3.org/2000/svg\" height=\"24px\"viewBox=\"0 0 24 24\"\n",
              "       width=\"24px\">\n",
              "    <path d=\"M0 0h24v24H0V0z\" fill=\"none\"/>\n",
              "    <path d=\"M18.56 5.44l.94 2.06.94-2.06 2.06-.94-2.06-.94-.94-2.06-.94 2.06-2.06.94zm-11 1L8.5 8.5l.94-2.06 2.06-.94-2.06-.94L8.5 2.5l-.94 2.06-2.06.94zm10 10l.94 2.06.94-2.06 2.06-.94-2.06-.94-.94-2.06-.94 2.06-2.06.94z\"/><path d=\"M17.41 7.96l-1.37-1.37c-.4-.4-.92-.59-1.43-.59-.52 0-1.04.2-1.43.59L10.3 9.45l-7.72 7.72c-.78.78-.78 2.05 0 2.83L4 21.41c.39.39.9.59 1.41.59.51 0 1.02-.2 1.41-.59l7.78-7.78 2.81-2.81c.8-.78.8-2.07 0-2.86zM5.41 20L4 18.59l7.72-7.72 1.47 1.35L5.41 20z\"/>\n",
              "  </svg>\n",
              "      </button>\n",
              "\n",
              "\n",
              "\n",
              "    <div id=\"df-00b078e6-78c7-4a86-a8a5-320a2f962d94\">\n",
              "      <button class=\"colab-df-quickchart\" onclick=\"quickchart('df-00b078e6-78c7-4a86-a8a5-320a2f962d94')\"\n",
              "              title=\"Suggest charts.\"\n",
              "              style=\"display:none;\">\n",
              "\n",
              "<svg xmlns=\"http://www.w3.org/2000/svg\" height=\"24px\"viewBox=\"0 0 24 24\"\n",
              "     width=\"24px\">\n",
              "    <g>\n",
              "        <path d=\"M19 3H5c-1.1 0-2 .9-2 2v14c0 1.1.9 2 2 2h14c1.1 0 2-.9 2-2V5c0-1.1-.9-2-2-2zM9 17H7v-7h2v7zm4 0h-2V7h2v10zm4 0h-2v-4h2v4z\"/>\n",
              "    </g>\n",
              "</svg>\n",
              "      </button>\n",
              "    </div>\n",
              "\n",
              "<style>\n",
              "  .colab-df-quickchart {\n",
              "    background-color: #E8F0FE;\n",
              "    border: none;\n",
              "    border-radius: 50%;\n",
              "    cursor: pointer;\n",
              "    display: none;\n",
              "    fill: #1967D2;\n",
              "    height: 32px;\n",
              "    padding: 0 0 0 0;\n",
              "    width: 32px;\n",
              "  }\n",
              "\n",
              "  .colab-df-quickchart:hover {\n",
              "    background-color: #E2EBFA;\n",
              "    box-shadow: 0px 1px 2px rgba(60, 64, 67, 0.3), 0px 1px 3px 1px rgba(60, 64, 67, 0.15);\n",
              "    fill: #174EA6;\n",
              "  }\n",
              "\n",
              "  [theme=dark] .colab-df-quickchart {\n",
              "    background-color: #3B4455;\n",
              "    fill: #D2E3FC;\n",
              "  }\n",
              "\n",
              "  [theme=dark] .colab-df-quickchart:hover {\n",
              "    background-color: #434B5C;\n",
              "    box-shadow: 0px 1px 3px 1px rgba(0, 0, 0, 0.15);\n",
              "    filter: drop-shadow(0px 1px 2px rgba(0, 0, 0, 0.3));\n",
              "    fill: #FFFFFF;\n",
              "  }\n",
              "</style>\n",
              "\n",
              "    <script>\n",
              "      async function quickchart(key) {\n",
              "        const containerElement = document.querySelector('#' + key);\n",
              "        const charts = await google.colab.kernel.invokeFunction(\n",
              "            'suggestCharts', [key], {});\n",
              "      }\n",
              "    </script>\n",
              "\n",
              "      <script>\n",
              "\n",
              "function displayQuickchartButton(domScope) {\n",
              "  let quickchartButtonEl =\n",
              "    domScope.querySelector('#df-00b078e6-78c7-4a86-a8a5-320a2f962d94 button.colab-df-quickchart');\n",
              "  quickchartButtonEl.style.display =\n",
              "    google.colab.kernel.accessAllowed ? 'block' : 'none';\n",
              "}\n",
              "\n",
              "        displayQuickchartButton(document);\n",
              "      </script>\n",
              "      <style>\n",
              "    .colab-df-container {\n",
              "      display:flex;\n",
              "      flex-wrap:wrap;\n",
              "      gap: 12px;\n",
              "    }\n",
              "\n",
              "    .colab-df-convert {\n",
              "      background-color: #E8F0FE;\n",
              "      border: none;\n",
              "      border-radius: 50%;\n",
              "      cursor: pointer;\n",
              "      display: none;\n",
              "      fill: #1967D2;\n",
              "      height: 32px;\n",
              "      padding: 0 0 0 0;\n",
              "      width: 32px;\n",
              "    }\n",
              "\n",
              "    .colab-df-convert:hover {\n",
              "      background-color: #E2EBFA;\n",
              "      box-shadow: 0px 1px 2px rgba(60, 64, 67, 0.3), 0px 1px 3px 1px rgba(60, 64, 67, 0.15);\n",
              "      fill: #174EA6;\n",
              "    }\n",
              "\n",
              "    [theme=dark] .colab-df-convert {\n",
              "      background-color: #3B4455;\n",
              "      fill: #D2E3FC;\n",
              "    }\n",
              "\n",
              "    [theme=dark] .colab-df-convert:hover {\n",
              "      background-color: #434B5C;\n",
              "      box-shadow: 0px 1px 3px 1px rgba(0, 0, 0, 0.15);\n",
              "      filter: drop-shadow(0px 1px 2px rgba(0, 0, 0, 0.3));\n",
              "      fill: #FFFFFF;\n",
              "    }\n",
              "  </style>\n",
              "\n",
              "      <script>\n",
              "        const buttonEl =\n",
              "          document.querySelector('#df-e3ea3f67-999b-4ecb-9277-d5711c4a02c5 button.colab-df-convert');\n",
              "        buttonEl.style.display =\n",
              "          google.colab.kernel.accessAllowed ? 'block' : 'none';\n",
              "\n",
              "        async function convertToInteractive(key) {\n",
              "          const element = document.querySelector('#df-e3ea3f67-999b-4ecb-9277-d5711c4a02c5');\n",
              "          const dataTable =\n",
              "            await google.colab.kernel.invokeFunction('convertToInteractive',\n",
              "                                                     [key], {});\n",
              "          if (!dataTable) return;\n",
              "\n",
              "          const docLinkHtml = 'Like what you see? Visit the ' +\n",
              "            '<a target=\"_blank\" href=https://colab.research.google.com/notebooks/data_table.ipynb>data table notebook</a>'\n",
              "            + ' to learn more about interactive tables.';\n",
              "          element.innerHTML = '';\n",
              "          dataTable['output_type'] = 'display_data';\n",
              "          await google.colab.output.renderOutput(dataTable, element);\n",
              "          const docLink = document.createElement('div');\n",
              "          docLink.innerHTML = docLinkHtml;\n",
              "          element.appendChild(docLink);\n",
              "        }\n",
              "      </script>\n",
              "    </div>\n",
              "  </div>\n"
            ]
          },
          "metadata": {},
          "execution_count": 124
        }
      ]
    },
    {
      "cell_type": "code",
      "source": [
        "current_directory = os.getcwd()\n",
        "\n",
        "# List the contents of the current directory\n",
        "print(os.listdir(current_directory))"
      ],
      "metadata": {
        "colab": {
          "base_uri": "https://localhost:8080/"
        },
        "id": "6CTKTTJWL90O",
        "outputId": "99ce569c-2d86-4f8d-c26f-97f376588ca5"
      },
      "execution_count": 235,
      "outputs": [
        {
          "output_type": "stream",
          "name": "stdout",
          "text": [
            "['.config', 'submission_K_39k_300_15_9.csv', 'TaxiFare.csv', 'final_submission.csv', 'sample_data']\n"
          ]
        }
      ]
    },
    {
      "metadata": {
        "trusted": true,
        "_uuid": "f1b6dea044626a4fcb977c4ab5506baa5664c98e",
        "colab": {
          "base_uri": "https://localhost:8080/"
        },
        "id": "cMhisiXK71vF",
        "outputId": "dab68d29-fcd2-4e33-a5d7-f939e13cae0f"
      },
      "cell_type": "code",
      "source": [
        "test_data.dtypes"
      ],
      "execution_count": 236,
      "outputs": [
        {
          "output_type": "execute_result",
          "data": {
            "text/plain": [
              "amount                  float64\n",
              "date_time_of_pickup      object\n",
              "longitude_of_pickup     float64\n",
              "latitude_of_pickup      float64\n",
              "longitude_of_dropoff    float64\n",
              "latitude_of_dropoff     float64\n",
              "no_of_passenger           int64\n",
              "dtype: object"
            ]
          },
          "metadata": {},
          "execution_count": 236
        }
      ]
    },
    {
      "cell_type": "code",
      "source": [
        "print(test_data.head())\n",
        "print(test_data.columns)"
      ],
      "metadata": {
        "colab": {
          "base_uri": "https://localhost:8080/"
        },
        "id": "g9p5FnJfMfUl",
        "outputId": "4ba45eee-51d2-4de9-dee5-1119f1ce91fc"
      },
      "execution_count": 237,
      "outputs": [
        {
          "output_type": "stream",
          "name": "stdout",
          "text": [
            "   amount      date_time_of_pickup  longitude_of_pickup  latitude_of_pickup  \\\n",
            "0     4.5  2009-06-15 17:26:21 UTC           -73.844311           40.721319   \n",
            "1    16.9  2010-01-05 16:52:16 UTC           -74.016048           40.711303   \n",
            "2     5.7  2011-08-18 00:35:00 UTC           -73.982738           40.761270   \n",
            "3     7.7  2012-04-21 04:30:42 UTC           -73.987130           40.733143   \n",
            "4     5.3  2010-03-09 07:51:00 UTC           -73.968095           40.768008   \n",
            "\n",
            "   longitude_of_dropoff  latitude_of_dropoff  no_of_passenger  \n",
            "0            -73.841610            40.712278                1  \n",
            "1            -73.979268            40.782004                1  \n",
            "2            -73.991242            40.750562                2  \n",
            "3            -73.991567            40.758092                1  \n",
            "4            -73.956655            40.783762                1  \n",
            "Index(['amount', 'date_time_of_pickup', 'longitude_of_pickup',\n",
            "       'latitude_of_pickup', 'longitude_of_dropoff', 'latitude_of_dropoff',\n",
            "       'no_of_passenger'],\n",
            "      dtype='object')\n"
          ]
        }
      ]
    },
    {
      "metadata": {
        "_uuid": "9484144f34ab7aa053e0e8b01f2b84c96848d45b",
        "id": "jnpeUBFY71vG"
      },
      "cell_type": "markdown",
      "source": [
        "Convert key and pickup_datetime to correct format"
      ]
    },
    {
      "metadata": {
        "trusted": true,
        "_uuid": "f4abe9e36a0ee01d7d5e2ac91e8a30ccd387f6fc",
        "id": "bSGYkF1971vG"
      },
      "cell_type": "code",
      "source": [
        "test_data['date_time_of_pickup'] = pd.to_datetime(test_data['date_time_of_pickup'], infer_datetime_format=True)\n"
      ],
      "execution_count": 238,
      "outputs": []
    },
    {
      "metadata": {
        "trusted": true,
        "_uuid": "486f8656226621c7bea85abef1e70c6b93b32e9d",
        "colab": {
          "base_uri": "https://localhost:8080/"
        },
        "id": "GSdoLFus71vG",
        "outputId": "6b1abc40-7c3b-4231-8088-4d40975cf83e"
      },
      "cell_type": "code",
      "source": [
        "test_data.dtypes"
      ],
      "execution_count": 239,
      "outputs": [
        {
          "output_type": "execute_result",
          "data": {
            "text/plain": [
              "amount                              float64\n",
              "date_time_of_pickup     datetime64[ns, UTC]\n",
              "longitude_of_pickup                 float64\n",
              "latitude_of_pickup                  float64\n",
              "longitude_of_dropoff                float64\n",
              "latitude_of_dropoff                 float64\n",
              "no_of_passenger                       int64\n",
              "dtype: object"
            ]
          },
          "metadata": {},
          "execution_count": 239
        }
      ]
    },
    {
      "metadata": {
        "trusted": true,
        "_uuid": "98f01d42ed6d37772117a44d25dfd4e848564db9",
        "id": "mg2y8BtI71vG"
      },
      "cell_type": "code",
      "source": [
        "test_data['year'] = test_data['date_time_of_pickup'].dt.year\n",
        "test_data['Month'] = test_data['date_time_of_pickup'].dt.month\n",
        "test_data['Date'] = test_data['date_time_of_pickup'].dt.day\n",
        "test_data['Day of Week'] = test_data['date_time_of_pickup'].dt.dayofweek\n",
        "test_data['Hour'] = test_data['date_time_of_pickup'].dt.hour\n",
        "test_data['Minute'] = test_data['date_time_of_pickup'].dt.minute"
      ],
      "execution_count": 240,
      "outputs": []
    },
    {
      "metadata": {
        "trusted": true,
        "_uuid": "839fe24890380092476d546a820972595ef6b18b",
        "colab": {
          "base_uri": "https://localhost:8080/",
          "height": 294
        },
        "id": "CICdH8pv71vG",
        "outputId": "7ccec18f-ee83-41d1-d1f9-09d2478f3979"
      },
      "cell_type": "code",
      "source": [
        "test_data.head(3)"
      ],
      "execution_count": 241,
      "outputs": [
        {
          "output_type": "execute_result",
          "data": {
            "text/plain": [
              "   amount       date_time_of_pickup  longitude_of_pickup  latitude_of_pickup  \\\n",
              "0     4.5 2009-06-15 17:26:21+00:00           -73.844311           40.721319   \n",
              "1    16.9 2010-01-05 16:52:16+00:00           -74.016048           40.711303   \n",
              "2     5.7 2011-08-18 00:35:00+00:00           -73.982738           40.761270   \n",
              "\n",
              "   longitude_of_dropoff  latitude_of_dropoff  no_of_passenger  year  Month  \\\n",
              "0            -73.841610            40.712278                1  2009      6   \n",
              "1            -73.979268            40.782004                1  2010      1   \n",
              "2            -73.991242            40.750562                2  2011      8   \n",
              "\n",
              "   Date  Day of Week  Hour  Minute  \n",
              "0    15            0    17      26  \n",
              "1     5            1    16      52  \n",
              "2    18            3     0      35  "
            ],
            "text/html": [
              "\n",
              "\n",
              "  <div id=\"df-cff7d748-9397-47b4-9a38-d6815e03d716\">\n",
              "    <div class=\"colab-df-container\">\n",
              "      <div>\n",
              "<style scoped>\n",
              "    .dataframe tbody tr th:only-of-type {\n",
              "        vertical-align: middle;\n",
              "    }\n",
              "\n",
              "    .dataframe tbody tr th {\n",
              "        vertical-align: top;\n",
              "    }\n",
              "\n",
              "    .dataframe thead th {\n",
              "        text-align: right;\n",
              "    }\n",
              "</style>\n",
              "<table border=\"1\" class=\"dataframe\">\n",
              "  <thead>\n",
              "    <tr style=\"text-align: right;\">\n",
              "      <th></th>\n",
              "      <th>amount</th>\n",
              "      <th>date_time_of_pickup</th>\n",
              "      <th>longitude_of_pickup</th>\n",
              "      <th>latitude_of_pickup</th>\n",
              "      <th>longitude_of_dropoff</th>\n",
              "      <th>latitude_of_dropoff</th>\n",
              "      <th>no_of_passenger</th>\n",
              "      <th>year</th>\n",
              "      <th>Month</th>\n",
              "      <th>Date</th>\n",
              "      <th>Day of Week</th>\n",
              "      <th>Hour</th>\n",
              "      <th>Minute</th>\n",
              "    </tr>\n",
              "  </thead>\n",
              "  <tbody>\n",
              "    <tr>\n",
              "      <th>0</th>\n",
              "      <td>4.5</td>\n",
              "      <td>2009-06-15 17:26:21+00:00</td>\n",
              "      <td>-73.844311</td>\n",
              "      <td>40.721319</td>\n",
              "      <td>-73.841610</td>\n",
              "      <td>40.712278</td>\n",
              "      <td>1</td>\n",
              "      <td>2009</td>\n",
              "      <td>6</td>\n",
              "      <td>15</td>\n",
              "      <td>0</td>\n",
              "      <td>17</td>\n",
              "      <td>26</td>\n",
              "    </tr>\n",
              "    <tr>\n",
              "      <th>1</th>\n",
              "      <td>16.9</td>\n",
              "      <td>2010-01-05 16:52:16+00:00</td>\n",
              "      <td>-74.016048</td>\n",
              "      <td>40.711303</td>\n",
              "      <td>-73.979268</td>\n",
              "      <td>40.782004</td>\n",
              "      <td>1</td>\n",
              "      <td>2010</td>\n",
              "      <td>1</td>\n",
              "      <td>5</td>\n",
              "      <td>1</td>\n",
              "      <td>16</td>\n",
              "      <td>52</td>\n",
              "    </tr>\n",
              "    <tr>\n",
              "      <th>2</th>\n",
              "      <td>5.7</td>\n",
              "      <td>2011-08-18 00:35:00+00:00</td>\n",
              "      <td>-73.982738</td>\n",
              "      <td>40.761270</td>\n",
              "      <td>-73.991242</td>\n",
              "      <td>40.750562</td>\n",
              "      <td>2</td>\n",
              "      <td>2011</td>\n",
              "      <td>8</td>\n",
              "      <td>18</td>\n",
              "      <td>3</td>\n",
              "      <td>0</td>\n",
              "      <td>35</td>\n",
              "    </tr>\n",
              "  </tbody>\n",
              "</table>\n",
              "</div>\n",
              "      <button class=\"colab-df-convert\" onclick=\"convertToInteractive('df-cff7d748-9397-47b4-9a38-d6815e03d716')\"\n",
              "              title=\"Convert this dataframe to an interactive table.\"\n",
              "              style=\"display:none;\">\n",
              "\n",
              "  <svg xmlns=\"http://www.w3.org/2000/svg\" height=\"24px\"viewBox=\"0 0 24 24\"\n",
              "       width=\"24px\">\n",
              "    <path d=\"M0 0h24v24H0V0z\" fill=\"none\"/>\n",
              "    <path d=\"M18.56 5.44l.94 2.06.94-2.06 2.06-.94-2.06-.94-.94-2.06-.94 2.06-2.06.94zm-11 1L8.5 8.5l.94-2.06 2.06-.94-2.06-.94L8.5 2.5l-.94 2.06-2.06.94zm10 10l.94 2.06.94-2.06 2.06-.94-2.06-.94-.94-2.06-.94 2.06-2.06.94z\"/><path d=\"M17.41 7.96l-1.37-1.37c-.4-.4-.92-.59-1.43-.59-.52 0-1.04.2-1.43.59L10.3 9.45l-7.72 7.72c-.78.78-.78 2.05 0 2.83L4 21.41c.39.39.9.59 1.41.59.51 0 1.02-.2 1.41-.59l7.78-7.78 2.81-2.81c.8-.78.8-2.07 0-2.86zM5.41 20L4 18.59l7.72-7.72 1.47 1.35L5.41 20z\"/>\n",
              "  </svg>\n",
              "      </button>\n",
              "\n",
              "\n",
              "\n",
              "    <div id=\"df-00aa184e-d68c-4731-945d-8284d4774f1c\">\n",
              "      <button class=\"colab-df-quickchart\" onclick=\"quickchart('df-00aa184e-d68c-4731-945d-8284d4774f1c')\"\n",
              "              title=\"Suggest charts.\"\n",
              "              style=\"display:none;\">\n",
              "\n",
              "<svg xmlns=\"http://www.w3.org/2000/svg\" height=\"24px\"viewBox=\"0 0 24 24\"\n",
              "     width=\"24px\">\n",
              "    <g>\n",
              "        <path d=\"M19 3H5c-1.1 0-2 .9-2 2v14c0 1.1.9 2 2 2h14c1.1 0 2-.9 2-2V5c0-1.1-.9-2-2-2zM9 17H7v-7h2v7zm4 0h-2V7h2v10zm4 0h-2v-4h2v4z\"/>\n",
              "    </g>\n",
              "</svg>\n",
              "      </button>\n",
              "    </div>\n",
              "\n",
              "<style>\n",
              "  .colab-df-quickchart {\n",
              "    background-color: #E8F0FE;\n",
              "    border: none;\n",
              "    border-radius: 50%;\n",
              "    cursor: pointer;\n",
              "    display: none;\n",
              "    fill: #1967D2;\n",
              "    height: 32px;\n",
              "    padding: 0 0 0 0;\n",
              "    width: 32px;\n",
              "  }\n",
              "\n",
              "  .colab-df-quickchart:hover {\n",
              "    background-color: #E2EBFA;\n",
              "    box-shadow: 0px 1px 2px rgba(60, 64, 67, 0.3), 0px 1px 3px 1px rgba(60, 64, 67, 0.15);\n",
              "    fill: #174EA6;\n",
              "  }\n",
              "\n",
              "  [theme=dark] .colab-df-quickchart {\n",
              "    background-color: #3B4455;\n",
              "    fill: #D2E3FC;\n",
              "  }\n",
              "\n",
              "  [theme=dark] .colab-df-quickchart:hover {\n",
              "    background-color: #434B5C;\n",
              "    box-shadow: 0px 1px 3px 1px rgba(0, 0, 0, 0.15);\n",
              "    filter: drop-shadow(0px 1px 2px rgba(0, 0, 0, 0.3));\n",
              "    fill: #FFFFFF;\n",
              "  }\n",
              "</style>\n",
              "\n",
              "    <script>\n",
              "      async function quickchart(key) {\n",
              "        const containerElement = document.querySelector('#' + key);\n",
              "        const charts = await google.colab.kernel.invokeFunction(\n",
              "            'suggestCharts', [key], {});\n",
              "      }\n",
              "    </script>\n",
              "\n",
              "      <script>\n",
              "\n",
              "function displayQuickchartButton(domScope) {\n",
              "  let quickchartButtonEl =\n",
              "    domScope.querySelector('#df-00aa184e-d68c-4731-945d-8284d4774f1c button.colab-df-quickchart');\n",
              "  quickchartButtonEl.style.display =\n",
              "    google.colab.kernel.accessAllowed ? 'block' : 'none';\n",
              "}\n",
              "\n",
              "        displayQuickchartButton(document);\n",
              "      </script>\n",
              "      <style>\n",
              "    .colab-df-container {\n",
              "      display:flex;\n",
              "      flex-wrap:wrap;\n",
              "      gap: 12px;\n",
              "    }\n",
              "\n",
              "    .colab-df-convert {\n",
              "      background-color: #E8F0FE;\n",
              "      border: none;\n",
              "      border-radius: 50%;\n",
              "      cursor: pointer;\n",
              "      display: none;\n",
              "      fill: #1967D2;\n",
              "      height: 32px;\n",
              "      padding: 0 0 0 0;\n",
              "      width: 32px;\n",
              "    }\n",
              "\n",
              "    .colab-df-convert:hover {\n",
              "      background-color: #E2EBFA;\n",
              "      box-shadow: 0px 1px 2px rgba(60, 64, 67, 0.3), 0px 1px 3px 1px rgba(60, 64, 67, 0.15);\n",
              "      fill: #174EA6;\n",
              "    }\n",
              "\n",
              "    [theme=dark] .colab-df-convert {\n",
              "      background-color: #3B4455;\n",
              "      fill: #D2E3FC;\n",
              "    }\n",
              "\n",
              "    [theme=dark] .colab-df-convert:hover {\n",
              "      background-color: #434B5C;\n",
              "      box-shadow: 0px 1px 3px 1px rgba(0, 0, 0, 0.15);\n",
              "      filter: drop-shadow(0px 1px 2px rgba(0, 0, 0, 0.3));\n",
              "      fill: #FFFFFF;\n",
              "    }\n",
              "  </style>\n",
              "\n",
              "      <script>\n",
              "        const buttonEl =\n",
              "          document.querySelector('#df-cff7d748-9397-47b4-9a38-d6815e03d716 button.colab-df-convert');\n",
              "        buttonEl.style.display =\n",
              "          google.colab.kernel.accessAllowed ? 'block' : 'none';\n",
              "\n",
              "        async function convertToInteractive(key) {\n",
              "          const element = document.querySelector('#df-cff7d748-9397-47b4-9a38-d6815e03d716');\n",
              "          const dataTable =\n",
              "            await google.colab.kernel.invokeFunction('convertToInteractive',\n",
              "                                                     [key], {});\n",
              "          if (!dataTable) return;\n",
              "\n",
              "          const docLinkHtml = 'Like what you see? Visit the ' +\n",
              "            '<a target=\"_blank\" href=https://colab.research.google.com/notebooks/data_table.ipynb>data table notebook</a>'\n",
              "            + ' to learn more about interactive tables.';\n",
              "          element.innerHTML = '';\n",
              "          dataTable['output_type'] = 'display_data';\n",
              "          await google.colab.output.renderOutput(dataTable, element);\n",
              "          const docLink = document.createElement('div');\n",
              "          docLink.innerHTML = docLinkHtml;\n",
              "          element.appendChild(docLink);\n",
              "        }\n",
              "      </script>\n",
              "    </div>\n",
              "  </div>\n"
            ]
          },
          "metadata": {},
          "execution_count": 241
        }
      ]
    },
    {
      "metadata": {
        "trusted": true,
        "_uuid": "5f4c89091aab3ed2842546fccbed286d04e22049",
        "colab": {
          "base_uri": "https://localhost:8080/"
        },
        "id": "1l2X9btr71vH",
        "outputId": "9720fd0d-920d-47af-9691-11260cd90711"
      },
      "cell_type": "code",
      "source": [
        "test_data.isnull().sum()"
      ],
      "execution_count": 242,
      "outputs": [
        {
          "output_type": "execute_result",
          "data": {
            "text/plain": [
              "amount                  0\n",
              "date_time_of_pickup     0\n",
              "longitude_of_pickup     0\n",
              "latitude_of_pickup      0\n",
              "longitude_of_dropoff    0\n",
              "latitude_of_dropoff     0\n",
              "no_of_passenger         0\n",
              "year                    0\n",
              "Month                   0\n",
              "Date                    0\n",
              "Day of Week             0\n",
              "Hour                    0\n",
              "Minute                  0\n",
              "dtype: int64"
            ]
          },
          "metadata": {},
          "execution_count": 242
        }
      ]
    },
    {
      "metadata": {
        "trusted": true,
        "_uuid": "fca4549cc86f88ae4c8306e833132ff6997f291d",
        "id": "ky5mOM9c71vH"
      },
      "cell_type": "code",
      "source": [
        "from math import radians, cos, sin, asin, sqrt,atan2\n",
        "def haversine(a):\n",
        "    lon1=a[0]\n",
        "    lat1=a[1]\n",
        "    lon2=a[2]\n",
        "    lat2=a[3]\n",
        "    \"\"\"\n",
        "    Calculate the great circle distance between two points\n",
        "    on the earth (specified in decimal degrees)\n",
        "    \"\"\"\n",
        "    # convert decimal degrees to radians\n",
        "    lon1, lat1, lon2, lat2 = map(radians, [lon1, lat1, lon2, lat2])\n",
        "    # haversine formula\n",
        "    dlon = lon2 - lon1\n",
        "    dlat = lat2 - lat1\n",
        "    a = sin(dlat/2)**2 + cos(lat1) * cos(lat2) * sin(dlon/2)**2\n",
        "    c = 2 * asin(sqrt(a))\n",
        "    # Radius of earth in kilometers is 6371\n",
        "    km = 6371* c\n",
        "    return km\n",
        "# 1min"
      ],
      "execution_count": 253,
      "outputs": []
    },
    {
      "metadata": {
        "trusted": true,
        "_uuid": "df28309590867ccd8210164119337c1a5a9bdd58",
        "id": "bussruyC71vH"
      },
      "cell_type": "code",
      "source": [
        "def haversine(lon1, lat1, lon2, lat2):\n",
        "    # Convert latitude and longitude from degrees to radians\n",
        "    lon1, lat1, lon2, lat2 = map(radians, [lon1, lat1, lon2, lat2])\n",
        "\n",
        "    # Haversine formula\n",
        "    dlon = lon2 - lon1\n",
        "    dlat = lat2 - lat1\n",
        "    a = sin(dlat / 2)**2 + cos(lat1) * cos(lat2) * sin(dlon / 2)**2\n",
        "    c = 2 * atan2(sqrt(a), sqrt(1 - a))\n",
        "    R = 6371  # Radius of the Earth in kilometers\n",
        "    distance = R * c\n",
        "\n",
        "    return distance"
      ],
      "execution_count": 254,
      "outputs": []
    },
    {
      "metadata": {
        "trusted": true,
        "_uuid": "d1e8949c87e69d0a0837b8e0b7dbe2893add7303",
        "colab": {
          "base_uri": "https://localhost:8080/"
        },
        "id": "-A3sXBpV71vH",
        "outputId": "09dba42d-7821-4eec-9b1b-c686110107f8"
      },
      "cell_type": "code",
      "source": [
        "import pandas as pd\n",
        "import xgboost\n",
        "from math import radians, sin, cos, sqrt, atan2\n",
        "\n",
        "# Load your data into a DataFrame, assuming it is named 'data'\n",
        "data = pd.read_csv(\"TaxiFare.csv\")  # Replace \"your_data.csv\" with the actual path to your dataset\n",
        " # this again is read because down condition was showing error\n",
        "# Drop irrelevant columns and non-numeric columns\n",
        "data.drop(['unique_id', 'date_time_of_pickup', 'longitude_of_pickup', 'latitude_of_pickup', 'longitude_of_dropoff', 'latitude_of_dropoff'], axis=1, inplace=True)\n",
        "\n",
        "# Convert categorical columns to numerical representation if any\n",
        "# Define the features 'X' by dropping the target variable 'amount'\n",
        "X = data.drop(['amount'], axis=1)\n",
        "\n",
        "# Define the target variable 'y'\n",
        "y = data['amount']\n",
        "\n",
        "# Create and fit the XGBoost model\n",
        "Regression_xgboost = xgboost.XGBRegressor(n_estimators=300, max_depth=15, max_leaves=9, random_state=0)\n",
        "Regression_xgboost.fit(X, y)\n",
        "\n",
        "# Calculate the 'distance' using the haversine function and add it as a new column\n",
        "def haversine(row):\n",
        "    # Convert latitude and longitude from degrees to radians\n",
        "    lon1, lat1, lon2, lat2 = map(radians, [row['longitude_of_pickup'], row['latitude_of_pickup'], row['longitude_of_dropoff'], row['latitude_of_dropoff']])\n",
        "\n",
        "    # Haversine formula\n",
        "    dlon = lon2 - lon1\n",
        "    dlat = lat2 - lat1\n",
        "    a = sin(dlat/2)**2 + cos(lat1) * cos(lat2) * sin(dlon/2)**2\n",
        "    c = 2 * atan2(sqrt(a), sqrt(1-a))\n",
        "    distance = 6371 * c  # Earth's radius in kilometers\n",
        "    return distance\n",
        "\n",
        "test_data['distance'] = test_data.apply(haversine, axis=1)\n",
        "\n",
        "# Define 'X_test' as the features for the test data (including the newly added 'distance' column)\n",
        "X_test = test_data.drop(['amount'], axis=1)\n",
        "\n",
        "# Reindex the columns of X_test to match X\n",
        "X_test = X_test.reindex(columns=X.columns, fill_value=0)\n",
        "\n",
        "# Make predictions on the test data using the trained model\n",
        "y_test_pred = Regression_xgboost.predict(X_test)\n",
        "\n",
        "# Print the predicted amounts for the test data\n",
        "print(y_test_pred)\n"
      ],
      "execution_count": 297,
      "outputs": [
        {
          "output_type": "stream",
          "name": "stdout",
          "text": [
            "[11.210227 11.210227 12.01332  ... 11.210227 12.01332  11.210227]\n"
          ]
        }
      ]
    },
    {
      "metadata": {
        "trusted": true,
        "_uuid": "cf22485ee1317d89d44d9829695b7ed2b707f12b",
        "id": "Qd1h9f7G71vH"
      },
      "cell_type": "code",
      "source": [
        "#test_data[test_data.distance==0]"
      ],
      "execution_count": 258,
      "outputs": []
    },
    {
      "metadata": {
        "trusted": true,
        "_uuid": "d4224f9916b904b863adf1d90625108365178891",
        "colab": {
          "base_uri": "https://localhost:8080/"
        },
        "id": "hzmY3ltP71vH",
        "outputId": "616285c8-0282-46bb-9c41-4465d674d5ba"
      },
      "cell_type": "code",
      "source": [
        "test_data.columns"
      ],
      "execution_count": 259,
      "outputs": [
        {
          "output_type": "execute_result",
          "data": {
            "text/plain": [
              "Index(['amount', 'date_time_of_pickup', 'longitude_of_pickup',\n",
              "       'latitude_of_pickup', 'longitude_of_dropoff', 'latitude_of_dropoff',\n",
              "       'no_of_passenger', 'year', 'Month', 'Date', 'Day of Week', 'Hour',\n",
              "       'Minute'],\n",
              "      dtype='object')"
            ]
          },
          "metadata": {},
          "execution_count": 259
        }
      ]
    },
    {
      "metadata": {
        "_uuid": "8d4ee7b443dc9c7801086fc65850a7f8056cd13b",
        "id": "zUPfICTa71vI"
      },
      "cell_type": "markdown",
      "source": [
        "**Machine Learning Algorithm**"
      ]
    },
    {
      "metadata": {
        "_uuid": "6cc86f493f0e8c4132a167120b460b3a3d8f9a2c",
        "id": "TY_vhp2T71vI"
      },
      "cell_type": "markdown",
      "source": [
        "Train data"
      ]
    },
    {
      "metadata": {
        "trusted": true,
        "_uuid": "df7a606374cbf7363f67cdae0b8b17622e7f4448",
        "colab": {
          "base_uri": "https://localhost:8080/"
        },
        "id": "Hzp_exL471vI",
        "outputId": "e05b1c60-528e-41cf-d545-a453a63b876c"
      },
      "cell_type": "code",
      "source": [
        "data.dtypes"
      ],
      "execution_count": 260,
      "outputs": [
        {
          "output_type": "execute_result",
          "data": {
            "text/plain": [
              "unique_id                object\n",
              "amount                  float64\n",
              "date_time_of_pickup      object\n",
              "longitude_of_pickup     float64\n",
              "latitude_of_pickup      float64\n",
              "longitude_of_dropoff    float64\n",
              "latitude_of_dropoff     float64\n",
              "no_of_passenger           int64\n",
              "dtype: object"
            ]
          },
          "metadata": {},
          "execution_count": 260
        }
      ]
    },
    {
      "cell_type": "code",
      "source": [
        "#drop date_time_of_pickup as we can't use directly in our model\n",
        "print(data.shape)\n",
        "data=data.drop('date_time_of_pickup',axis=1)\n",
        "print(data.shape)"
      ],
      "metadata": {
        "colab": {
          "base_uri": "https://localhost:8080/"
        },
        "id": "dX39Q9ATdqOY",
        "outputId": "ec009586-fb75-45f0-8531-4ca410c31a22"
      },
      "execution_count": 264,
      "outputs": [
        {
          "output_type": "stream",
          "name": "stdout",
          "text": [
            "(50000, 8)\n",
            "(50000, 7)\n"
          ]
        }
      ]
    },
    {
      "metadata": {
        "trusted": true,
        "_uuid": "ed5fdc6424baed8b46f65840edfa1b66c8f58e20",
        "colab": {
          "base_uri": "https://localhost:8080/"
        },
        "id": "CODOqhz371vI",
        "outputId": "21d237bd-d362-4f43-82d0-0782520739a7"
      },
      "cell_type": "code",
      "source": [
        "data.dtypes"
      ],
      "execution_count": 265,
      "outputs": [
        {
          "output_type": "execute_result",
          "data": {
            "text/plain": [
              "unique_id                object\n",
              "amount                  float64\n",
              "longitude_of_pickup     float64\n",
              "latitude_of_pickup      float64\n",
              "longitude_of_dropoff    float64\n",
              "latitude_of_dropoff     float64\n",
              "no_of_passenger           int64\n",
              "dtype: object"
            ]
          },
          "metadata": {},
          "execution_count": 265
        }
      ]
    },
    {
      "metadata": {
        "trusted": true,
        "_uuid": "20f58824acea3c437f61e9ec0c4aeee3c544953f",
        "colab": {
          "base_uri": "https://localhost:8080/",
          "height": 145
        },
        "id": "URp1LSDp71vI",
        "outputId": "e8425b7e-3c0a-457f-e8a5-47aee84a448a"
      },
      "cell_type": "code",
      "source": [
        "data.iloc[:,:].head(1)"
      ],
      "execution_count": 266,
      "outputs": [
        {
          "output_type": "execute_result",
          "data": {
            "text/plain": [
              "  unique_id  amount  longitude_of_pickup  latitude_of_pickup  \\\n",
              "0   26:21.0     4.5           -73.844311           40.721319   \n",
              "\n",
              "   longitude_of_dropoff  latitude_of_dropoff  no_of_passenger  \n",
              "0             -73.84161            40.712278                1  "
            ],
            "text/html": [
              "\n",
              "\n",
              "  <div id=\"df-59442506-96b5-40c4-9d86-6a7ad8038d63\">\n",
              "    <div class=\"colab-df-container\">\n",
              "      <div>\n",
              "<style scoped>\n",
              "    .dataframe tbody tr th:only-of-type {\n",
              "        vertical-align: middle;\n",
              "    }\n",
              "\n",
              "    .dataframe tbody tr th {\n",
              "        vertical-align: top;\n",
              "    }\n",
              "\n",
              "    .dataframe thead th {\n",
              "        text-align: right;\n",
              "    }\n",
              "</style>\n",
              "<table border=\"1\" class=\"dataframe\">\n",
              "  <thead>\n",
              "    <tr style=\"text-align: right;\">\n",
              "      <th></th>\n",
              "      <th>unique_id</th>\n",
              "      <th>amount</th>\n",
              "      <th>longitude_of_pickup</th>\n",
              "      <th>latitude_of_pickup</th>\n",
              "      <th>longitude_of_dropoff</th>\n",
              "      <th>latitude_of_dropoff</th>\n",
              "      <th>no_of_passenger</th>\n",
              "    </tr>\n",
              "  </thead>\n",
              "  <tbody>\n",
              "    <tr>\n",
              "      <th>0</th>\n",
              "      <td>26:21.0</td>\n",
              "      <td>4.5</td>\n",
              "      <td>-73.844311</td>\n",
              "      <td>40.721319</td>\n",
              "      <td>-73.84161</td>\n",
              "      <td>40.712278</td>\n",
              "      <td>1</td>\n",
              "    </tr>\n",
              "  </tbody>\n",
              "</table>\n",
              "</div>\n",
              "      <button class=\"colab-df-convert\" onclick=\"convertToInteractive('df-59442506-96b5-40c4-9d86-6a7ad8038d63')\"\n",
              "              title=\"Convert this dataframe to an interactive table.\"\n",
              "              style=\"display:none;\">\n",
              "\n",
              "  <svg xmlns=\"http://www.w3.org/2000/svg\" height=\"24px\"viewBox=\"0 0 24 24\"\n",
              "       width=\"24px\">\n",
              "    <path d=\"M0 0h24v24H0V0z\" fill=\"none\"/>\n",
              "    <path d=\"M18.56 5.44l.94 2.06.94-2.06 2.06-.94-2.06-.94-.94-2.06-.94 2.06-2.06.94zm-11 1L8.5 8.5l.94-2.06 2.06-.94-2.06-.94L8.5 2.5l-.94 2.06-2.06.94zm10 10l.94 2.06.94-2.06 2.06-.94-2.06-.94-.94-2.06-.94 2.06-2.06.94z\"/><path d=\"M17.41 7.96l-1.37-1.37c-.4-.4-.92-.59-1.43-.59-.52 0-1.04.2-1.43.59L10.3 9.45l-7.72 7.72c-.78.78-.78 2.05 0 2.83L4 21.41c.39.39.9.59 1.41.59.51 0 1.02-.2 1.41-.59l7.78-7.78 2.81-2.81c.8-.78.8-2.07 0-2.86zM5.41 20L4 18.59l7.72-7.72 1.47 1.35L5.41 20z\"/>\n",
              "  </svg>\n",
              "      </button>\n",
              "\n",
              "\n",
              "\n",
              "    <div id=\"df-5f6642ec-c421-478c-900c-da37917d46eb\">\n",
              "      <button class=\"colab-df-quickchart\" onclick=\"quickchart('df-5f6642ec-c421-478c-900c-da37917d46eb')\"\n",
              "              title=\"Suggest charts.\"\n",
              "              style=\"display:none;\">\n",
              "\n",
              "<svg xmlns=\"http://www.w3.org/2000/svg\" height=\"24px\"viewBox=\"0 0 24 24\"\n",
              "     width=\"24px\">\n",
              "    <g>\n",
              "        <path d=\"M19 3H5c-1.1 0-2 .9-2 2v14c0 1.1.9 2 2 2h14c1.1 0 2-.9 2-2V5c0-1.1-.9-2-2-2zM9 17H7v-7h2v7zm4 0h-2V7h2v10zm4 0h-2v-4h2v4z\"/>\n",
              "    </g>\n",
              "</svg>\n",
              "      </button>\n",
              "    </div>\n",
              "\n",
              "<style>\n",
              "  .colab-df-quickchart {\n",
              "    background-color: #E8F0FE;\n",
              "    border: none;\n",
              "    border-radius: 50%;\n",
              "    cursor: pointer;\n",
              "    display: none;\n",
              "    fill: #1967D2;\n",
              "    height: 32px;\n",
              "    padding: 0 0 0 0;\n",
              "    width: 32px;\n",
              "  }\n",
              "\n",
              "  .colab-df-quickchart:hover {\n",
              "    background-color: #E2EBFA;\n",
              "    box-shadow: 0px 1px 2px rgba(60, 64, 67, 0.3), 0px 1px 3px 1px rgba(60, 64, 67, 0.15);\n",
              "    fill: #174EA6;\n",
              "  }\n",
              "\n",
              "  [theme=dark] .colab-df-quickchart {\n",
              "    background-color: #3B4455;\n",
              "    fill: #D2E3FC;\n",
              "  }\n",
              "\n",
              "  [theme=dark] .colab-df-quickchart:hover {\n",
              "    background-color: #434B5C;\n",
              "    box-shadow: 0px 1px 3px 1px rgba(0, 0, 0, 0.15);\n",
              "    filter: drop-shadow(0px 1px 2px rgba(0, 0, 0, 0.3));\n",
              "    fill: #FFFFFF;\n",
              "  }\n",
              "</style>\n",
              "\n",
              "    <script>\n",
              "      async function quickchart(key) {\n",
              "        const containerElement = document.querySelector('#' + key);\n",
              "        const charts = await google.colab.kernel.invokeFunction(\n",
              "            'suggestCharts', [key], {});\n",
              "      }\n",
              "    </script>\n",
              "\n",
              "      <script>\n",
              "\n",
              "function displayQuickchartButton(domScope) {\n",
              "  let quickchartButtonEl =\n",
              "    domScope.querySelector('#df-5f6642ec-c421-478c-900c-da37917d46eb button.colab-df-quickchart');\n",
              "  quickchartButtonEl.style.display =\n",
              "    google.colab.kernel.accessAllowed ? 'block' : 'none';\n",
              "}\n",
              "\n",
              "        displayQuickchartButton(document);\n",
              "      </script>\n",
              "      <style>\n",
              "    .colab-df-container {\n",
              "      display:flex;\n",
              "      flex-wrap:wrap;\n",
              "      gap: 12px;\n",
              "    }\n",
              "\n",
              "    .colab-df-convert {\n",
              "      background-color: #E8F0FE;\n",
              "      border: none;\n",
              "      border-radius: 50%;\n",
              "      cursor: pointer;\n",
              "      display: none;\n",
              "      fill: #1967D2;\n",
              "      height: 32px;\n",
              "      padding: 0 0 0 0;\n",
              "      width: 32px;\n",
              "    }\n",
              "\n",
              "    .colab-df-convert:hover {\n",
              "      background-color: #E2EBFA;\n",
              "      box-shadow: 0px 1px 2px rgba(60, 64, 67, 0.3), 0px 1px 3px 1px rgba(60, 64, 67, 0.15);\n",
              "      fill: #174EA6;\n",
              "    }\n",
              "\n",
              "    [theme=dark] .colab-df-convert {\n",
              "      background-color: #3B4455;\n",
              "      fill: #D2E3FC;\n",
              "    }\n",
              "\n",
              "    [theme=dark] .colab-df-convert:hover {\n",
              "      background-color: #434B5C;\n",
              "      box-shadow: 0px 1px 3px 1px rgba(0, 0, 0, 0.15);\n",
              "      filter: drop-shadow(0px 1px 2px rgba(0, 0, 0, 0.3));\n",
              "      fill: #FFFFFF;\n",
              "    }\n",
              "  </style>\n",
              "\n",
              "      <script>\n",
              "        const buttonEl =\n",
              "          document.querySelector('#df-59442506-96b5-40c4-9d86-6a7ad8038d63 button.colab-df-convert');\n",
              "        buttonEl.style.display =\n",
              "          google.colab.kernel.accessAllowed ? 'block' : 'none';\n",
              "\n",
              "        async function convertToInteractive(key) {\n",
              "          const element = document.querySelector('#df-59442506-96b5-40c4-9d86-6a7ad8038d63');\n",
              "          const dataTable =\n",
              "            await google.colab.kernel.invokeFunction('convertToInteractive',\n",
              "                                                     [key], {});\n",
              "          if (!dataTable) return;\n",
              "\n",
              "          const docLinkHtml = 'Like what you see? Visit the ' +\n",
              "            '<a target=\"_blank\" href=https://colab.research.google.com/notebooks/data_table.ipynb>data table notebook</a>'\n",
              "            + ' to learn more about interactive tables.';\n",
              "          element.innerHTML = '';\n",
              "          dataTable['output_type'] = 'display_data';\n",
              "          await google.colab.output.renderOutput(dataTable, element);\n",
              "          const docLink = document.createElement('div');\n",
              "          docLink.innerHTML = docLinkHtml;\n",
              "          element.appendChild(docLink);\n",
              "        }\n",
              "      </script>\n",
              "    </div>\n",
              "  </div>\n"
            ]
          },
          "metadata": {},
          "execution_count": 266
        }
      ]
    },
    {
      "metadata": {
        "trusted": true,
        "_uuid": "b9c79976f95f822bf300d452628a1796c64c2753",
        "id": "oymW4qgS71vI"
      },
      "cell_type": "code",
      "source": [
        "X = data.drop(['unique_id', 'amount', 'date_time_of_pickup', 'longitude_of_pickup', 'latitude_of_pickup', 'longitude_of_dropoff', 'latitude_of_dropoff', 'no_of_passenger'], axis=1)\n",
        "# Assuming 'fare_amount' is the first column, select it as the target variable 'y'\n",
        "y = data.iloc[:, 0].values\n"
      ],
      "execution_count": 271,
      "outputs": []
    },
    {
      "metadata": {
        "trusted": true,
        "_uuid": "d663de8c2aa37618d329758a6179a084cb074110",
        "colab": {
          "base_uri": "https://localhost:8080/"
        },
        "id": "NAB6xeIe71vJ",
        "outputId": "0a371978-fc10-489e-b479-14cbb2a071ec"
      },
      "cell_type": "code",
      "source": [
        "X.shape"
      ],
      "execution_count": 272,
      "outputs": [
        {
          "output_type": "execute_result",
          "data": {
            "text/plain": [
              "(50000, 0)"
            ]
          },
          "metadata": {},
          "execution_count": 272
        }
      ]
    },
    {
      "metadata": {
        "trusted": true,
        "_uuid": "71b237b1c63a32dd3679649ece32cc236dbbdafc",
        "colab": {
          "base_uri": "https://localhost:8080/"
        },
        "id": "excDtlDP71vJ",
        "outputId": "8d768272-5a9d-43ea-cf0a-082060f1794e"
      },
      "cell_type": "code",
      "source": [
        "y.shape"
      ],
      "execution_count": 273,
      "outputs": [
        {
          "output_type": "execute_result",
          "data": {
            "text/plain": [
              "(50000,)"
            ]
          },
          "metadata": {},
          "execution_count": 273
        }
      ]
    },
    {
      "metadata": {
        "_uuid": "c67f7e2f003f183570186d80014dfc96c83055d6",
        "id": "5F_oXuZI71vJ"
      },
      "cell_type": "markdown",
      "source": [
        "#to check accuracy"
      ]
    },
    {
      "metadata": {
        "trusted": true,
        "_uuid": "49fdf2acac2032cc2965d8626feba8e79379cd51",
        "id": "OLLa4DX571vJ"
      },
      "cell_type": "code",
      "source": [
        "#from sklearn.model_selection import train_test_split\n",
        "#train_X, val_X, train_y, val_y =train_test_split(X,y,test_size=0.2,random_state=0)"
      ],
      "execution_count": 274,
      "outputs": []
    },
    {
      "metadata": {
        "trusted": true,
        "_uuid": "c0a4a80ef5f9a085e5c2f8cae81819c9c9eb4ba3",
        "id": "0xeQYA6I71vJ"
      },
      "cell_type": "code",
      "source": [
        "#from sklearn.ensemble  import RandomForestRegressor\n",
        "#Regression =RandomForestRegressor(random_state=0)\n",
        "#Regression.fit(train_X,train_y)\n",
        "#y_pred=Regression.predict(val_X)"
      ],
      "execution_count": 275,
      "outputs": []
    },
    {
      "metadata": {
        "trusted": true,
        "_uuid": "25b43aaac112d365cd5d9453883e09c7c1684249",
        "id": "dNoToUqY71vJ"
      },
      "cell_type": "code",
      "source": [
        "#import xgboost\n",
        "#Regression_xgbooost =xgboost.XGBRegressor(n_estimator=201,max_depth=17,random_state=0)\n",
        "#Regression_xgbooost.fit(train_X,train_y)\n",
        "#y_pred=Regression_xgbooost.predict(val_X)"
      ],
      "execution_count": 276,
      "outputs": []
    },
    {
      "metadata": {
        "trusted": true,
        "_uuid": "fe0a79e763ecc445c57ffc87b46f043145bb09a6",
        "id": "XT-D5JRW71vK"
      },
      "cell_type": "code",
      "source": [
        "#from sklearn.metrics import mean_absolute_error\n",
        "#print(mean_absolute_error(val_y,y_pred))"
      ],
      "execution_count": 277,
      "outputs": []
    },
    {
      "metadata": {
        "_uuid": "9a114adab01080e4f40ffdb60bda09332ba1c2e7",
        "id": "DO8HF7bv71vK"
      },
      "cell_type": "markdown",
      "source": [
        "test_data"
      ]
    },
    {
      "metadata": {
        "trusted": true,
        "_uuid": "7951a7062ffb413391a51ce6c2828a77de0bdf7a",
        "colab": {
          "base_uri": "https://localhost:8080/"
        },
        "id": "B1BoDzuK71vK",
        "outputId": "9c294ea4-3eef-4dfa-a15e-11c6ca54348a"
      },
      "cell_type": "code",
      "source": [
        "X_test=test_data\n",
        "print(X_test.columns)\n",
        "print(X_test.shape)\n",
        "print(X_test.dtypes)"
      ],
      "execution_count": 278,
      "outputs": [
        {
          "output_type": "stream",
          "name": "stdout",
          "text": [
            "Index(['amount', 'date_time_of_pickup', 'longitude_of_pickup',\n",
            "       'latitude_of_pickup', 'longitude_of_dropoff', 'latitude_of_dropoff',\n",
            "       'no_of_passenger', 'year', 'Month', 'Date', 'Day of Week', 'Hour',\n",
            "       'Minute'],\n",
            "      dtype='object')\n",
            "(49999, 13)\n",
            "amount                              float64\n",
            "date_time_of_pickup     datetime64[ns, UTC]\n",
            "longitude_of_pickup                 float64\n",
            "latitude_of_pickup                  float64\n",
            "longitude_of_dropoff                float64\n",
            "latitude_of_dropoff                 float64\n",
            "no_of_passenger                       int64\n",
            "year                                  int64\n",
            "Month                                 int64\n",
            "Date                                  int64\n",
            "Day of Week                           int64\n",
            "Hour                                  int64\n",
            "Minute                                int64\n",
            "dtype: object\n"
          ]
        }
      ]
    },
    {
      "cell_type": "code",
      "source": [
        "print(test_data.columns)\n"
      ],
      "metadata": {
        "colab": {
          "base_uri": "https://localhost:8080/"
        },
        "id": "coiDcBAHONPk",
        "outputId": "90039e68-6db5-44f9-c60b-206c853e5a3b"
      },
      "execution_count": 319,
      "outputs": [
        {
          "output_type": "stream",
          "name": "stdout",
          "text": [
            "Index(['amount', 'date_time_of_pickup', 'longitude_of_pickup',\n",
            "       'latitude_of_pickup', 'longitude_of_dropoff', 'latitude_of_dropoff',\n",
            "       'no_of_passenger', 'year', 'Month', 'Date', 'Day of Week', 'Hour',\n",
            "       'Minute', 'distance'],\n",
            "      dtype='object')\n"
          ]
        }
      ]
    },
    {
      "metadata": {
        "trusted": true,
        "_uuid": "8ea87b64bfe0e712b902d367e13efa893e12cefe",
        "id": "4crjgbOr71vK"
      },
      "cell_type": "code",
      "source": [
        "from math import radians, sin, cos, sqrt, atan2\n",
        "\n",
        "def haversine(coord1, coord2):\n",
        "    # Convert coordinates from decimal degrees to radians\n",
        "    lon1, lat1 = map(radians, coord1)\n",
        "    lon2, lat2 = map(radians, coord2)\n",
        "\n",
        "    # Haversine formula\n",
        "    dlon = lon2 - lon1\n",
        "    dlat = lat2 - lat1\n",
        "    a = sin(dlat/2)**2 + cos(lat1) * cos(lat2) * sin(dlon/2)**2\n",
        "    c = 2 * atan2(sqrt(a), sqrt(1-a))\n",
        "    r = 6371  # Radius of Earth in kilometers\n",
        "    distance = r * c\n",
        "\n",
        "    return distance\n",
        "\n",
        "test_data['distance'] = test_data.apply(lambda row: haversine(\n",
        "    (row['longitude_of_pickup'], row['latitude_of_pickup']),\n",
        "    (row['longitude_of_dropoff'], row['latitude_of_dropoff'])\n",
        "), axis=1)\n"
      ],
      "execution_count": 318,
      "outputs": []
    },
    {
      "metadata": {
        "trusted": true,
        "_uuid": "8d9c8cb7c6ae126973d99237f38628c1c6a490e4",
        "colab": {
          "base_uri": "https://localhost:8080/"
        },
        "id": "bqRj3dKE71vK",
        "outputId": "13eb2990-b691-4148-b831-7533c994deea"
      },
      "cell_type": "code",
      "source": [
        "print(X_test.shape)\n",
        "print(X_test.dtypes)"
      ],
      "execution_count": 317,
      "outputs": [
        {
          "output_type": "stream",
          "name": "stdout",
          "text": [
            "(49999, 13)\n",
            "date_time_of_pickup     datetime64[ns, UTC]\n",
            "longitude_of_pickup                 float64\n",
            "latitude_of_pickup                  float64\n",
            "longitude_of_dropoff                float64\n",
            "latitude_of_dropoff                 float64\n",
            "no_of_passenger                       int64\n",
            "year                                  int64\n",
            "Month                                 int64\n",
            "Date                                  int64\n",
            "Day of Week                           int64\n",
            "Hour                                  int64\n",
            "Minute                                int64\n",
            "distance                              int64\n",
            "dtype: object\n"
          ]
        }
      ]
    },
    {
      "metadata": {
        "trusted": true,
        "_uuid": "da8a1da35d479a31ae64c8ce2f4051c9bc2c50b1",
        "collapsed": true,
        "id": "BUsvxJmm71vL"
      },
      "cell_type": "code",
      "source": [
        "#from sklearn.ensemble  import RandomForestRegressor\n",
        "#Regression =RandomForestRegressor(n_estimators=70,min_samples_leaf=5,random_state=0)\n",
        "#Regression.fit(X,y)\n",
        "#y_test_pred=Regression.predict(X_test)\n",
        "#print(y_test_pred)"
      ],
      "execution_count": 316,
      "outputs": []
    },
    {
      "metadata": {
        "trusted": true,
        "_uuid": "9e97218da6f8cfebe02c957a72345f200acf2e97",
        "colab": {
          "base_uri": "https://localhost:8080/"
        },
        "id": "M_mc7FlP71vL",
        "outputId": "e558bb43-b9e0-4b31-8635-eb91c8d6705c"
      },
      "cell_type": "code",
      "source": [
        "import xgboost\n",
        "\n",
        "# Assuming you have your training data and test data (X_train, y_train, X_test)\n",
        "# Replace X_train and y_train with your actual training data\n",
        "\n",
        "# Placeholder data for demonstration purposes\n",
        "X_train = train_data[['no_of_passenger']]\n",
        "y_train = train_data['amount']  # Replace 'target_column' with the actual name of your target column\n",
        "\n",
        "# Initialize an XGBoost regression model\n",
        "Regression_xgbooost = xgboost.XGBRegressor(n_estimators=300, max_depth=15, max_leaves=9, random_state=0)\n",
        "\n",
        "# Fit the XGBoost model to the training data\n",
        "Regression_xgbooost.fit(X_train, y_train)\n",
        "\n",
        "# Verify the shape of X_test and X_train\n",
        "print(\"Shape of X_test:\", X_test.shape)\n",
        "print(\"Shape of X_train:\", X_train.shape)\n",
        "\n",
        "# Select only the relevant features from X_test\n",
        "X_test_selected = X_test[['no_of_passenger']]\n",
        "\n",
        "# Make predictions using the XGBoost model with the selected features\n",
        "y_test_pred = Regression_xgbooost.predict(X_test_selected)\n",
        "\n",
        "print(y_test_pred)\n"
      ],
      "execution_count": 339,
      "outputs": [
        {
          "output_type": "stream",
          "name": "stdout",
          "text": [
            "Shape of X_test: (49999, 12)\n",
            "Shape of X_train: (49999, 1)\n",
            "[11.210455 11.210455 12.01332  ... 11.210455 12.01332  11.210455]\n"
          ]
        }
      ]
    },
    {
      "cell_type": "code",
      "source": [
        "print(\"Shape of X_test:\", X_test.shape)\n",
        "print(\"Shape of X:\", X.shape)"
      ],
      "metadata": {
        "colab": {
          "base_uri": "https://localhost:8080/"
        },
        "id": "u8ttXFAGpLfH",
        "outputId": "a5fc1b7a-9fcf-4f5e-e0de-10a81bf4c454"
      },
      "execution_count": 334,
      "outputs": [
        {
          "output_type": "stream",
          "name": "stdout",
          "text": [
            "Shape of X_test: (49999, 12)\n",
            "Shape of X: (50000, 1)\n"
          ]
        }
      ]
    },
    {
      "cell_type": "code",
      "source": [
        "print(\"Data type of X_test:\", X_test.dtypes)\n",
        "print(\"Data type of X:\", X.dtypes)\n"
      ],
      "metadata": {
        "colab": {
          "base_uri": "https://localhost:8080/"
        },
        "id": "ilikxOlepLmg",
        "outputId": "c462826d-cfef-44c9-e891-760a4692f248"
      },
      "execution_count": 335,
      "outputs": [
        {
          "output_type": "stream",
          "name": "stdout",
          "text": [
            "Data type of X_test: longitude_of_pickup     float64\n",
            "latitude_of_pickup      float64\n",
            "longitude_of_dropoff    float64\n",
            "latitude_of_dropoff     float64\n",
            "no_of_passenger           int64\n",
            "year                      int64\n",
            "Month                     int64\n",
            "Date                      int64\n",
            "Day of Week               int64\n",
            "Hour                      int64\n",
            "Minute                    int64\n",
            "distance                  int64\n",
            "dtype: object\n",
            "Data type of X: no_of_passenger    int64\n",
            "dtype: object\n"
          ]
        }
      ]
    },
    {
      "cell_type": "code",
      "source": [
        "print(X.columns)\n",
        "print(X_test.columns)"
      ],
      "metadata": {
        "colab": {
          "base_uri": "https://localhost:8080/"
        },
        "id": "sf31zq5vkLvG",
        "outputId": "37a7a127-00d1-4df5-b933-80cf3b3cd8ca"
      },
      "execution_count": 309,
      "outputs": [
        {
          "output_type": "stream",
          "name": "stdout",
          "text": [
            "Index(['longitude_of_pickup', 'latitude_of_pickup', 'longitude_of_dropoff',\n",
            "       'latitude_of_dropoff', 'no_of_passenger'],\n",
            "      dtype='object')\n",
            "Index(['amount', 'longitude_of_pickup', 'latitude_of_pickup',\n",
            "       'longitude_of_dropoff', 'latitude_of_dropoff', 'no_of_passenger',\n",
            "       'year', 'Month', 'Date', 'Day of Week', 'Hour', 'Minute', 'distance'],\n",
            "      dtype='object')\n"
          ]
        }
      ]
    },
    {
      "cell_type": "code",
      "source": [
        "print(set(X.columns) - set(X_test.columns))\n",
        "print(set(X_test.columns) - set(X.columns))\n"
      ],
      "metadata": {
        "colab": {
          "base_uri": "https://localhost:8080/"
        },
        "id": "NlzxnYn6kN-e",
        "outputId": "39c45728-e588-442e-cd7c-f982219a2a30"
      },
      "execution_count": 330,
      "outputs": [
        {
          "output_type": "stream",
          "name": "stdout",
          "text": [
            "set()\n",
            "{'year', 'Hour', 'distance', 'Date', 'longitude_of_pickup', 'Day of Week', 'longitude_of_dropoff', 'latitude_of_pickup', 'Minute', 'Month', 'latitude_of_dropoff'}\n"
          ]
        }
      ]
    },
    {
      "cell_type": "code",
      "source": [
        "# List all the column names in the DataFrame to find the correct name of the target variable\n",
        "print(data.columns)"
      ],
      "metadata": {
        "colab": {
          "base_uri": "https://localhost:8080/"
        },
        "id": "9Mmuza-nQItn",
        "outputId": "f5ea2a8e-34fe-4f92-e53a-25bcc977ac22"
      },
      "execution_count": 331,
      "outputs": [
        {
          "output_type": "stream",
          "name": "stdout",
          "text": [
            "Index(['amount', 'no_of_passenger'], dtype='object')\n"
          ]
        }
      ]
    },
    {
      "cell_type": "code",
      "source": [
        "print(train_data.columns)\n"
      ],
      "metadata": {
        "colab": {
          "base_uri": "https://localhost:8080/"
        },
        "id": "Zrxc1Qg9PJLZ",
        "outputId": "5f3391f2-a63d-48ba-8864-ae9eece60504"
      },
      "execution_count": 148,
      "outputs": [
        {
          "output_type": "stream",
          "name": "stdout",
          "text": [
            "Index(['amount', 'date_time_of_pickup', 'longitude_of_pickup',\n",
            "       'latitude_of_pickup', 'longitude_of_dropoff', 'latitude_of_dropoff',\n",
            "       'no_of_passenger'],\n",
            "      dtype='object')\n"
          ]
        }
      ]
    },
    {
      "metadata": {
        "trusted": true,
        "collapsed": true,
        "_uuid": "9499b5310765dc5009c2b09b03438172696008df",
        "id": "g73g45lq71vL"
      },
      "cell_type": "markdown",
      "source": [
        "**submission**"
      ]
    },
    {
      "metadata": {
        "trusted": true,
        "_uuid": "90e29ad9466260bc46d7b9e974bc84c342d05b74",
        "collapsed": true,
        "colab": {
          "base_uri": "https://localhost:8080/",
          "height": 592
        },
        "id": "4YMAWIIw71vL",
        "outputId": "4c314499-150b-4088-e5cd-54666454da6c"
      },
      "cell_type": "code",
      "source": [
        "submission = pd.read_csv('TaxiFare.csv')\n",
        "submission['fare_amount'] = y_test_pred\n",
        "submission.to_csv('final_submission.csv', index=False)\n",
        "submission"
      ],
      "execution_count": 160,
      "outputs": [
        {
          "output_type": "execute_result",
          "data": {
            "text/plain": [
              "      unique_id  amount      date_time_of_pickup  longitude_of_pickup  \\\n",
              "0       26:21.0     4.5  2009-06-15 17:26:21 UTC           -73.844311   \n",
              "1       52:16.0    16.9  2010-01-05 16:52:16 UTC           -74.016048   \n",
              "2       35:00.0     5.7  2011-08-18 00:35:00 UTC           -73.982738   \n",
              "3       30:42.0     7.7  2012-04-21 04:30:42 UTC           -73.987130   \n",
              "4       51:00.0     5.3  2010-03-09 07:51:00 UTC           -73.968095   \n",
              "...         ...     ...                      ...                  ...   \n",
              "49995   25:15.0    15.0  2013-06-12 23:25:15 UTC           -73.999973   \n",
              "49996   19:18.0     7.5  2015-06-22 17:19:18 UTC           -73.984756   \n",
              "49997   53:00.0     6.9  2011-01-30 04:53:00 UTC           -74.002698   \n",
              "49998   09:00.0     4.5  2012-11-06 07:09:00 UTC           -73.946062   \n",
              "49999   13:14.0    10.9  2010-01-13 08:13:14 UTC           -73.932603   \n",
              "\n",
              "       latitude_of_pickup  longitude_of_dropoff  latitude_of_dropoff  \\\n",
              "0               40.721319            -73.841610            40.712278   \n",
              "1               40.711303            -73.979268            40.782004   \n",
              "2               40.761270            -73.991242            40.750562   \n",
              "3               40.733143            -73.991567            40.758092   \n",
              "4               40.768008            -73.956655            40.783762   \n",
              "...                   ...                   ...                  ...   \n",
              "49995           40.748531            -74.016899            40.705993   \n",
              "49996           40.768211            -73.987366            40.760597   \n",
              "49997           40.739428            -73.998108            40.759483   \n",
              "49998           40.777567            -73.953450            40.779687   \n",
              "49999           40.763805            -73.932603            40.763805   \n",
              "\n",
              "       no_of_passenger  fare_amount  \n",
              "0                    1     4.593811  \n",
              "1                    1    16.966515  \n",
              "2                    2     5.903564  \n",
              "3                    1     8.131226  \n",
              "4                    1     5.564508  \n",
              "...                ...          ...  \n",
              "49995                1    14.962884  \n",
              "49996                1     7.019881  \n",
              "49997                1     6.897265  \n",
              "49998                2     4.607043  \n",
              "49999                1    10.370378  \n",
              "\n",
              "[50000 rows x 9 columns]"
            ],
            "text/html": [
              "\n",
              "\n",
              "  <div id=\"df-848dfa91-8a88-4454-91f9-15abef2b1471\">\n",
              "    <div class=\"colab-df-container\">\n",
              "      <div>\n",
              "<style scoped>\n",
              "    .dataframe tbody tr th:only-of-type {\n",
              "        vertical-align: middle;\n",
              "    }\n",
              "\n",
              "    .dataframe tbody tr th {\n",
              "        vertical-align: top;\n",
              "    }\n",
              "\n",
              "    .dataframe thead th {\n",
              "        text-align: right;\n",
              "    }\n",
              "</style>\n",
              "<table border=\"1\" class=\"dataframe\">\n",
              "  <thead>\n",
              "    <tr style=\"text-align: right;\">\n",
              "      <th></th>\n",
              "      <th>unique_id</th>\n",
              "      <th>amount</th>\n",
              "      <th>date_time_of_pickup</th>\n",
              "      <th>longitude_of_pickup</th>\n",
              "      <th>latitude_of_pickup</th>\n",
              "      <th>longitude_of_dropoff</th>\n",
              "      <th>latitude_of_dropoff</th>\n",
              "      <th>no_of_passenger</th>\n",
              "      <th>fare_amount</th>\n",
              "    </tr>\n",
              "  </thead>\n",
              "  <tbody>\n",
              "    <tr>\n",
              "      <th>0</th>\n",
              "      <td>26:21.0</td>\n",
              "      <td>4.5</td>\n",
              "      <td>2009-06-15 17:26:21 UTC</td>\n",
              "      <td>-73.844311</td>\n",
              "      <td>40.721319</td>\n",
              "      <td>-73.841610</td>\n",
              "      <td>40.712278</td>\n",
              "      <td>1</td>\n",
              "      <td>4.593811</td>\n",
              "    </tr>\n",
              "    <tr>\n",
              "      <th>1</th>\n",
              "      <td>52:16.0</td>\n",
              "      <td>16.9</td>\n",
              "      <td>2010-01-05 16:52:16 UTC</td>\n",
              "      <td>-74.016048</td>\n",
              "      <td>40.711303</td>\n",
              "      <td>-73.979268</td>\n",
              "      <td>40.782004</td>\n",
              "      <td>1</td>\n",
              "      <td>16.966515</td>\n",
              "    </tr>\n",
              "    <tr>\n",
              "      <th>2</th>\n",
              "      <td>35:00.0</td>\n",
              "      <td>5.7</td>\n",
              "      <td>2011-08-18 00:35:00 UTC</td>\n",
              "      <td>-73.982738</td>\n",
              "      <td>40.761270</td>\n",
              "      <td>-73.991242</td>\n",
              "      <td>40.750562</td>\n",
              "      <td>2</td>\n",
              "      <td>5.903564</td>\n",
              "    </tr>\n",
              "    <tr>\n",
              "      <th>3</th>\n",
              "      <td>30:42.0</td>\n",
              "      <td>7.7</td>\n",
              "      <td>2012-04-21 04:30:42 UTC</td>\n",
              "      <td>-73.987130</td>\n",
              "      <td>40.733143</td>\n",
              "      <td>-73.991567</td>\n",
              "      <td>40.758092</td>\n",
              "      <td>1</td>\n",
              "      <td>8.131226</td>\n",
              "    </tr>\n",
              "    <tr>\n",
              "      <th>4</th>\n",
              "      <td>51:00.0</td>\n",
              "      <td>5.3</td>\n",
              "      <td>2010-03-09 07:51:00 UTC</td>\n",
              "      <td>-73.968095</td>\n",
              "      <td>40.768008</td>\n",
              "      <td>-73.956655</td>\n",
              "      <td>40.783762</td>\n",
              "      <td>1</td>\n",
              "      <td>5.564508</td>\n",
              "    </tr>\n",
              "    <tr>\n",
              "      <th>...</th>\n",
              "      <td>...</td>\n",
              "      <td>...</td>\n",
              "      <td>...</td>\n",
              "      <td>...</td>\n",
              "      <td>...</td>\n",
              "      <td>...</td>\n",
              "      <td>...</td>\n",
              "      <td>...</td>\n",
              "      <td>...</td>\n",
              "    </tr>\n",
              "    <tr>\n",
              "      <th>49995</th>\n",
              "      <td>25:15.0</td>\n",
              "      <td>15.0</td>\n",
              "      <td>2013-06-12 23:25:15 UTC</td>\n",
              "      <td>-73.999973</td>\n",
              "      <td>40.748531</td>\n",
              "      <td>-74.016899</td>\n",
              "      <td>40.705993</td>\n",
              "      <td>1</td>\n",
              "      <td>14.962884</td>\n",
              "    </tr>\n",
              "    <tr>\n",
              "      <th>49996</th>\n",
              "      <td>19:18.0</td>\n",
              "      <td>7.5</td>\n",
              "      <td>2015-06-22 17:19:18 UTC</td>\n",
              "      <td>-73.984756</td>\n",
              "      <td>40.768211</td>\n",
              "      <td>-73.987366</td>\n",
              "      <td>40.760597</td>\n",
              "      <td>1</td>\n",
              "      <td>7.019881</td>\n",
              "    </tr>\n",
              "    <tr>\n",
              "      <th>49997</th>\n",
              "      <td>53:00.0</td>\n",
              "      <td>6.9</td>\n",
              "      <td>2011-01-30 04:53:00 UTC</td>\n",
              "      <td>-74.002698</td>\n",
              "      <td>40.739428</td>\n",
              "      <td>-73.998108</td>\n",
              "      <td>40.759483</td>\n",
              "      <td>1</td>\n",
              "      <td>6.897265</td>\n",
              "    </tr>\n",
              "    <tr>\n",
              "      <th>49998</th>\n",
              "      <td>09:00.0</td>\n",
              "      <td>4.5</td>\n",
              "      <td>2012-11-06 07:09:00 UTC</td>\n",
              "      <td>-73.946062</td>\n",
              "      <td>40.777567</td>\n",
              "      <td>-73.953450</td>\n",
              "      <td>40.779687</td>\n",
              "      <td>2</td>\n",
              "      <td>4.607043</td>\n",
              "    </tr>\n",
              "    <tr>\n",
              "      <th>49999</th>\n",
              "      <td>13:14.0</td>\n",
              "      <td>10.9</td>\n",
              "      <td>2010-01-13 08:13:14 UTC</td>\n",
              "      <td>-73.932603</td>\n",
              "      <td>40.763805</td>\n",
              "      <td>-73.932603</td>\n",
              "      <td>40.763805</td>\n",
              "      <td>1</td>\n",
              "      <td>10.370378</td>\n",
              "    </tr>\n",
              "  </tbody>\n",
              "</table>\n",
              "<p>50000 rows × 9 columns</p>\n",
              "</div>\n",
              "      <button class=\"colab-df-convert\" onclick=\"convertToInteractive('df-848dfa91-8a88-4454-91f9-15abef2b1471')\"\n",
              "              title=\"Convert this dataframe to an interactive table.\"\n",
              "              style=\"display:none;\">\n",
              "\n",
              "  <svg xmlns=\"http://www.w3.org/2000/svg\" height=\"24px\"viewBox=\"0 0 24 24\"\n",
              "       width=\"24px\">\n",
              "    <path d=\"M0 0h24v24H0V0z\" fill=\"none\"/>\n",
              "    <path d=\"M18.56 5.44l.94 2.06.94-2.06 2.06-.94-2.06-.94-.94-2.06-.94 2.06-2.06.94zm-11 1L8.5 8.5l.94-2.06 2.06-.94-2.06-.94L8.5 2.5l-.94 2.06-2.06.94zm10 10l.94 2.06.94-2.06 2.06-.94-2.06-.94-.94-2.06-.94 2.06-2.06.94z\"/><path d=\"M17.41 7.96l-1.37-1.37c-.4-.4-.92-.59-1.43-.59-.52 0-1.04.2-1.43.59L10.3 9.45l-7.72 7.72c-.78.78-.78 2.05 0 2.83L4 21.41c.39.39.9.59 1.41.59.51 0 1.02-.2 1.41-.59l7.78-7.78 2.81-2.81c.8-.78.8-2.07 0-2.86zM5.41 20L4 18.59l7.72-7.72 1.47 1.35L5.41 20z\"/>\n",
              "  </svg>\n",
              "      </button>\n",
              "\n",
              "\n",
              "\n",
              "    <div id=\"df-ceedd907-d637-451c-9e1c-6b18af3965cf\">\n",
              "      <button class=\"colab-df-quickchart\" onclick=\"quickchart('df-ceedd907-d637-451c-9e1c-6b18af3965cf')\"\n",
              "              title=\"Suggest charts.\"\n",
              "              style=\"display:none;\">\n",
              "\n",
              "<svg xmlns=\"http://www.w3.org/2000/svg\" height=\"24px\"viewBox=\"0 0 24 24\"\n",
              "     width=\"24px\">\n",
              "    <g>\n",
              "        <path d=\"M19 3H5c-1.1 0-2 .9-2 2v14c0 1.1.9 2 2 2h14c1.1 0 2-.9 2-2V5c0-1.1-.9-2-2-2zM9 17H7v-7h2v7zm4 0h-2V7h2v10zm4 0h-2v-4h2v4z\"/>\n",
              "    </g>\n",
              "</svg>\n",
              "      </button>\n",
              "    </div>\n",
              "\n",
              "<style>\n",
              "  .colab-df-quickchart {\n",
              "    background-color: #E8F0FE;\n",
              "    border: none;\n",
              "    border-radius: 50%;\n",
              "    cursor: pointer;\n",
              "    display: none;\n",
              "    fill: #1967D2;\n",
              "    height: 32px;\n",
              "    padding: 0 0 0 0;\n",
              "    width: 32px;\n",
              "  }\n",
              "\n",
              "  .colab-df-quickchart:hover {\n",
              "    background-color: #E2EBFA;\n",
              "    box-shadow: 0px 1px 2px rgba(60, 64, 67, 0.3), 0px 1px 3px 1px rgba(60, 64, 67, 0.15);\n",
              "    fill: #174EA6;\n",
              "  }\n",
              "\n",
              "  [theme=dark] .colab-df-quickchart {\n",
              "    background-color: #3B4455;\n",
              "    fill: #D2E3FC;\n",
              "  }\n",
              "\n",
              "  [theme=dark] .colab-df-quickchart:hover {\n",
              "    background-color: #434B5C;\n",
              "    box-shadow: 0px 1px 3px 1px rgba(0, 0, 0, 0.15);\n",
              "    filter: drop-shadow(0px 1px 2px rgba(0, 0, 0, 0.3));\n",
              "    fill: #FFFFFF;\n",
              "  }\n",
              "</style>\n",
              "\n",
              "    <script>\n",
              "      async function quickchart(key) {\n",
              "        const containerElement = document.querySelector('#' + key);\n",
              "        const charts = await google.colab.kernel.invokeFunction(\n",
              "            'suggestCharts', [key], {});\n",
              "      }\n",
              "    </script>\n",
              "\n",
              "      <script>\n",
              "\n",
              "function displayQuickchartButton(domScope) {\n",
              "  let quickchartButtonEl =\n",
              "    domScope.querySelector('#df-ceedd907-d637-451c-9e1c-6b18af3965cf button.colab-df-quickchart');\n",
              "  quickchartButtonEl.style.display =\n",
              "    google.colab.kernel.accessAllowed ? 'block' : 'none';\n",
              "}\n",
              "\n",
              "        displayQuickchartButton(document);\n",
              "      </script>\n",
              "      <style>\n",
              "    .colab-df-container {\n",
              "      display:flex;\n",
              "      flex-wrap:wrap;\n",
              "      gap: 12px;\n",
              "    }\n",
              "\n",
              "    .colab-df-convert {\n",
              "      background-color: #E8F0FE;\n",
              "      border: none;\n",
              "      border-radius: 50%;\n",
              "      cursor: pointer;\n",
              "      display: none;\n",
              "      fill: #1967D2;\n",
              "      height: 32px;\n",
              "      padding: 0 0 0 0;\n",
              "      width: 32px;\n",
              "    }\n",
              "\n",
              "    .colab-df-convert:hover {\n",
              "      background-color: #E2EBFA;\n",
              "      box-shadow: 0px 1px 2px rgba(60, 64, 67, 0.3), 0px 1px 3px 1px rgba(60, 64, 67, 0.15);\n",
              "      fill: #174EA6;\n",
              "    }\n",
              "\n",
              "    [theme=dark] .colab-df-convert {\n",
              "      background-color: #3B4455;\n",
              "      fill: #D2E3FC;\n",
              "    }\n",
              "\n",
              "    [theme=dark] .colab-df-convert:hover {\n",
              "      background-color: #434B5C;\n",
              "      box-shadow: 0px 1px 3px 1px rgba(0, 0, 0, 0.15);\n",
              "      filter: drop-shadow(0px 1px 2px rgba(0, 0, 0, 0.3));\n",
              "      fill: #FFFFFF;\n",
              "    }\n",
              "  </style>\n",
              "\n",
              "      <script>\n",
              "        const buttonEl =\n",
              "          document.querySelector('#df-848dfa91-8a88-4454-91f9-15abef2b1471 button.colab-df-convert');\n",
              "        buttonEl.style.display =\n",
              "          google.colab.kernel.accessAllowed ? 'block' : 'none';\n",
              "\n",
              "        async function convertToInteractive(key) {\n",
              "          const element = document.querySelector('#df-848dfa91-8a88-4454-91f9-15abef2b1471');\n",
              "          const dataTable =\n",
              "            await google.colab.kernel.invokeFunction('convertToInteractive',\n",
              "                                                     [key], {});\n",
              "          if (!dataTable) return;\n",
              "\n",
              "          const docLinkHtml = 'Like what you see? Visit the ' +\n",
              "            '<a target=\"_blank\" href=https://colab.research.google.com/notebooks/data_table.ipynb>data table notebook</a>'\n",
              "            + ' to learn more about interactive tables.';\n",
              "          element.innerHTML = '';\n",
              "          dataTable['output_type'] = 'display_data';\n",
              "          await google.colab.output.renderOutput(dataTable, element);\n",
              "          const docLink = document.createElement('div');\n",
              "          docLink.innerHTML = docLinkHtml;\n",
              "          element.appendChild(docLink);\n",
              "        }\n",
              "      </script>\n",
              "    </div>\n",
              "  </div>\n"
            ]
          },
          "metadata": {},
          "execution_count": 160
        }
      ]
    },
    {
      "metadata": {
        "_uuid": "62ebb77d791cb2ec185aacf51b966972e9c9166a",
        "id": "raO0Lzae71vL"
      },
      "cell_type": "markdown",
      "source": [
        "---------------------------"
      ]
    },
    {
      "metadata": {
        "trusted": true,
        "_uuid": "9fd66034aef20fff0ab4d93d75611216d7f79dce",
        "collapsed": true,
        "id": "vAFjMegC71vL"
      },
      "cell_type": "code",
      "source": [
        "from sklearn.model_selection import train_test_split\n",
        "train_X, val_X, train_y, val_y =train_test_split(X,y,test_size=0.2,random_state=0)"
      ],
      "execution_count": 161,
      "outputs": []
    },
    {
      "metadata": {
        "trusted": true,
        "_uuid": "e0da06b0e3e4ffe1799ff1fb6cc2c4d80aeb01cf",
        "collapsed": true,
        "id": "0WYJrpdh71vM"
      },
      "cell_type": "code",
      "source": [
        "import xgboost\n",
        "Regression_xgbooost =xgboost.XGBRegressor(n_estimators=300,max_depth=15,max_leaves=9,random_state=0)\n",
        "Regression_xgbooost.fit(train_X,train_y)\n",
        "y_pred=Regression_xgbooost.predict(val_X)"
      ],
      "execution_count": 162,
      "outputs": []
    },
    {
      "metadata": {
        "trusted": true,
        "_uuid": "b3faca9047deea56d82480e4001eb6523dec4d53",
        "collapsed": true,
        "colab": {
          "base_uri": "https://localhost:8080/"
        },
        "id": "BrBRMlK271vM",
        "outputId": "1f5c23ef-7c80-4a38-c2f0-74fc9c1c5898"
      },
      "cell_type": "code",
      "source": [
        "from sklearn.metrics import mean_absolute_error\n",
        "print(mean_absolute_error(val_y,y_pred))"
      ],
      "execution_count": 298,
      "outputs": [
        {
          "output_type": "stream",
          "name": "stdout",
          "text": [
            "2.4035081811097863\n"
          ]
        }
      ]
    }
  ],
  "metadata": {
    "kernelspec": {
      "display_name": "Python 3",
      "language": "python",
      "name": "python3"
    },
    "language_info": {
      "name": "python",
      "version": "3.6.6",
      "mimetype": "text/x-python",
      "codemirror_mode": {
        "name": "ipython",
        "version": 3
      },
      "pygments_lexer": "ipython3",
      "nbconvert_exporter": "python",
      "file_extension": ".py"
    },
    "colab": {
      "provenance": []
    }
  },
  "nbformat": 4,
  "nbformat_minor": 0
}